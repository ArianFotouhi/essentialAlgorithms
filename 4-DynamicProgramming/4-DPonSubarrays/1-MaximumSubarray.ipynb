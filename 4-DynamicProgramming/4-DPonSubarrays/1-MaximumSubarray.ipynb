{
 "cells": [
  {
   "cell_type": "markdown",
   "id": "b38ef9d6",
   "metadata": {},
   "source": [
    "# 53 - Maximum Subarray (Kadane’s algorithm)\n",
    "\n",
    "Given an integer array nums, find the subarray with the largest sum, and return its sum.\n",
    "\n",
    " \n",
    "\n",
    "## Example 1:\n",
    "\n",
    "- Input: nums = [-2,1,-3,4,-1,2,1,-5,4]\n",
    "- Output: 6\n",
    "- Explanation: The subarray [4,-1,2,1] has the largest sum 6.\n",
    "\n",
    "\n",
    "## Example 2:\n",
    "\n",
    "- Input: nums = [1]\n",
    "- Output: 1\n",
    "- Explanation: The subarray [1] has the largest sum 1.\n",
    "\n",
    "## Example 3:\n",
    "\n",
    "- Input: nums = [5,4,-1,7,8]\n",
    "- Output: 23\n",
    "- Explanation: The subarray [5,4,-1,7,8] has the largest sum 23.\n",
    " "
   ]
  },
  {
   "cell_type": "markdown",
   "id": "2eacc4b2",
   "metadata": {},
   "source": [
    "# Base Version"
   ]
  },
  {
   "cell_type": "code",
   "execution_count": null,
   "id": "127135ac",
   "metadata": {},
   "outputs": [
    {
     "name": "stdout",
     "output_type": "stream",
     "text": [
      "Answer: 6\n"
     ]
    }
   ],
   "source": [
    "def maxSubArray(nums):\n",
    "    best = cur = nums[0]\n",
    "    for x in nums[1:]:\n",
    "        cur = max(x, cur + x)\n",
    "        best = max(best, cur)\n",
    "    return best\n",
    "\n",
    "arr = [-2,1,-3,4,-1,2,1,-5,4]\n",
    "ans = maxSubArray(arr)\n",
    "print(\"Answer:\", ans)  # (6, 3, 6) for the subarray [4,-1,2,1]"
   ]
  },
  {
   "cell_type": "markdown",
   "id": "3e5c5756",
   "metadata": {},
   "source": [
    "# Verbose Version"
   ]
  },
  {
   "cell_type": "code",
   "execution_count": 9,
   "id": "82cbe242",
   "metadata": {},
   "outputs": [
    {
     "name": "stdout",
     "output_type": "stream",
     "text": [
      "i | nums[i] | cur(before) | cur(after)  | decision         | best(after) | best_range\n",
      "---|---------|-------------|-------------|-----------------|-------------|-----------\n",
      "0 |      -2 |           - |          -2 |      start here |          -2 | [0, 0]\n",
      "1 |       1 |           0 |           1 |    restart at i |           1 | [1, 1]\n",
      "2 |      -3 |           1 |          -2 |     extend prev |           1 | [1, 1]\n",
      "3 |       4 |           0 |           4 |    restart at i |           4 | [3, 3]\n",
      "4 |      -1 |           4 |           3 |     extend prev |           4 | [3, 3]\n",
      "5 |       2 |           3 |           5 |     extend prev |           5 | [3, 5]\n",
      "6 |       1 |           5 |           6 |     extend prev |           6 | [3, 6]\n",
      "7 |      -5 |           6 |           1 |     extend prev |           6 | [3, 6]\n",
      "8 |       4 |           1 |           5 |     extend prev |           6 | [3, 6]\n",
      "\n",
      "=== RESULT ===\n",
      "Maximum subarray sum = 6\n",
      "Left index          = 3\n",
      "Right index         = 6\n",
      "Subarray            = [4, -1, 2, 1]\n"
     ]
    }
   ],
   "source": [
    "def max_subarray_kadane_verbose(nums):\n",
    "    \"\"\"\n",
    "    Kadane's algorithm with step-by-step printing.\n",
    "    Tracks:\n",
    "      - current running sum (cur)\n",
    "      - best sum so far (best)\n",
    "      - current subarray start index\n",
    "      - best subarray indices\n",
    "    Returns (best_sum, best_left, best_right)\n",
    "    \"\"\"\n",
    "    if not nums:\n",
    "        print(\"Empty array: max sum is 0 by convention.\")\n",
    "        return 0, -1, -1\n",
    "\n",
    "    cur = best = nums[0]\n",
    "    cur_left = best_left = best_right = 0\n",
    "\n",
    "    print(\"i | nums[i] | cur(before) | cur(after)  | decision         | best(after) | best_range\")\n",
    "    print(\"---|---------|-------------|-------------|-----------------|-------------|-----------\")\n",
    "    print(f\"0 | {nums[0]:>7} | {'-':>11} | {cur:>11} | {'start here':>15} | {best:>11} | [{best_left}, {best_right}]\")\n",
    "\n",
    "    for i in range(1, len(nums)):\n",
    "        x = nums[i]\n",
    "\n",
    "        # Decide to extend or restart\n",
    "        if cur + x >= x:\n",
    "            cur = cur + x\n",
    "            decision = \"extend prev\"\n",
    "        else:\n",
    "            cur = x\n",
    "            cur_left = i\n",
    "            decision = \"restart at i\"\n",
    "\n",
    "        # Update best if needed\n",
    "        if cur > best:\n",
    "            best = cur\n",
    "            best_left = cur_left\n",
    "            best_right = i\n",
    "\n",
    "        print(\n",
    "            f\"{i} | {x:>7} | {cur - x if decision=='extend prev' else 0:>11} | {cur:>11} | {decision:>15} | {best:>11} | [{best_left}, {best_right}]\"\n",
    "        )\n",
    "\n",
    "    print(\"\\n=== RESULT ===\")\n",
    "    print(f\"Maximum subarray sum = {best}\")\n",
    "    print(f\"Left index          = {best_left}\")\n",
    "    print(f\"Right index         = {best_right}\")\n",
    "    print(f\"Subarray            = {nums[best_left:best_right+1]}\")\n",
    "\n",
    "    return best, best_left, best_right\n",
    "\n",
    "\n",
    "# Example:\n",
    "arr = [-2, 1, -3, 4, -1, 2, 1, -5, 4]\n",
    "ans = max_subarray_kadane_verbose(arr)\n"
   ]
  }
 ],
 "metadata": {
  "kernelspec": {
   "display_name": "myenv",
   "language": "python",
   "name": "python3"
  },
  "language_info": {
   "codemirror_mode": {
    "name": "ipython",
    "version": 3
   },
   "file_extension": ".py",
   "mimetype": "text/x-python",
   "name": "python",
   "nbconvert_exporter": "python",
   "pygments_lexer": "ipython3",
   "version": "3.12.9"
  }
 },
 "nbformat": 4,
 "nbformat_minor": 5
}
