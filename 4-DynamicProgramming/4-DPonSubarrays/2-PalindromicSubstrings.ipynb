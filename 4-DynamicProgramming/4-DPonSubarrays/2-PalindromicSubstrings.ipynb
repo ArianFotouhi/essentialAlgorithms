{
 "cells": [
  {
   "cell_type": "markdown",
   "id": "755ef2a6",
   "metadata": {},
   "source": [
    "# 647 - Palindromic Substrings\n",
    "\n",
    "Given a string **s**, return the number of palindromic substrings in it.\n",
    "\n",
    "A string is a palindrome when it reads the same backward as forward.\n",
    "\n",
    "A substring is a contiguous sequence of characters within the string.\n",
    "\n",
    " \n",
    "\n",
    "## Example 1:\n",
    "\n",
    "- Input: s = \"abc\"\n",
    "- Output: 3\n",
    "- Explanation: Three palindromic strings: \"a\", \"b\", \"c\".\n",
    "\n",
    "## Example 2:\n",
    "\n",
    "- Input: s = \"aaa\"\n",
    "- Output: 6\n",
    "- Explanation: Six palindromic strings: \"a\", \"a\", \"a\", \"aa\", \"aa\", \"aaa\".\n"
   ]
  },
  {
   "cell_type": "markdown",
   "id": "91f5103f",
   "metadata": {},
   "source": [
    "# Base Version"
   ]
  },
  {
   "cell_type": "code",
   "execution_count": null,
   "id": "6b75b4cd",
   "metadata": {},
   "outputs": [
    {
     "data": {
      "text/plain": [
       "6"
      ]
     },
     "execution_count": 3,
     "metadata": {},
     "output_type": "execute_result"
    }
   ],
   "source": [
    "def countSubstrings(s: str) -> int:\n",
    "    n = len(s)\n",
    "    ans = 0\n",
    "    for c in range(n):\n",
    "        # odd\n",
    "        l = r = c\n",
    "        while l >= 0 and r < n and s[l] == s[r]:\n",
    "            ans += 1; l -= 1; r += 1\n",
    "        # even\n",
    "        l, r = c, c + 1\n",
    "        while l >= 0 and r < n and s[l] == s[r]:\n",
    "            ans += 1; l -= 1; r += 1\n",
    "    return ans\n",
    "countSubstrings(\"aaa\")"
   ]
  },
  {
   "cell_type": "markdown",
   "id": "3b3ff3cc",
   "metadata": {},
   "source": [
    "# Verbose Version"
   ]
  },
  {
   "cell_type": "code",
   "execution_count": 1,
   "id": "3a1ff36b",
   "metadata": {},
   "outputs": [
    {
     "name": "stdout",
     "output_type": "stream",
     "text": [
      "String: 'aaa' (n=3)\n",
      "=== Odd centers ===\n",
      "\n",
      "[center at i=0 ('a')]\n",
      "odd@0 step 0: l=0, r=0 | 'a' ?= 'a' -> ✅ 'a'  (count=1)\n",
      "\n",
      "[center at i=1 ('a')]\n",
      "odd@1 step 0: l=1, r=1 | 'a' ?= 'a' -> ✅ 'a'  (count=2)\n",
      "odd@1 step 1: l=0, r=2 | 'a' ?= 'a' -> ✅ 'aaa'  (count=3)\n",
      "\n",
      "[center at i=2 ('a')]\n",
      "odd@2 step 0: l=2, r=2 | 'a' ?= 'a' -> ✅ 'a'  (count=4)\n",
      "\n",
      "=== Even centers ===\n",
      "\n",
      "[center between 0 ('a') and 1 ('a')]\n",
      "even@0,1 step 0: l=0, r=1 | 'a' ?= 'a' -> ✅ 'aa'  (count=5)\n",
      "\n",
      "[center between 1 ('a') and 2 ('a')]\n",
      "even@1,2 step 0: l=1, r=2 | 'a' ?= 'a' -> ✅ 'aa'  (count=6)\n",
      "\n",
      "=== RESULT ===\n",
      "Total palindromic substrings = 6\n"
     ]
    },
    {
     "data": {
      "text/plain": [
       "(6,\n",
       " [(0, 0, 'a'),\n",
       "  (1, 1, 'a'),\n",
       "  (0, 2, 'aaa'),\n",
       "  (2, 2, 'a'),\n",
       "  (0, 1, 'aa'),\n",
       "  (1, 2, 'aa')])"
      ]
     },
     "execution_count": 1,
     "metadata": {},
     "output_type": "execute_result"
    }
   ],
   "source": [
    "def palindromic_substrings_expand_verbose(s: str):\n",
    "    \"\"\"\n",
    "    Expand-around-center with detailed prints for each expansion.\n",
    "    Returns (count, found) where found = list of (l, r, substring).\n",
    "    \"\"\"\n",
    "    n = len(s)\n",
    "    if n == 0:\n",
    "        print(\"Empty string: 0 palindromes.\")\n",
    "        return 0, []\n",
    "\n",
    "    def expand(l, r, tag):\n",
    "        nonlocal total\n",
    "        step = 0\n",
    "        while l >= 0 and r < n:\n",
    "            match = s[l] == s[r]\n",
    "            print(f\"{tag} step {step}: l={l}, r={r} | '{s[l]}' ?= '{s[r]}'\", end=\"\")\n",
    "            if match:\n",
    "                total += 1\n",
    "                pal = s[l:r+1]\n",
    "                found.append((l, r, pal))\n",
    "                print(f\" -> ✅ '{pal}'  (count={total})\")\n",
    "                l -= 1\n",
    "                r += 1\n",
    "                step += 1\n",
    "            else:\n",
    "                print(\" -> ❌ break\")\n",
    "                break\n",
    "\n",
    "    total = 0\n",
    "    found = []\n",
    "    print(f\"String: '{s}' (n={len(s)})\\n=== Odd centers ===\")\n",
    "    for i in range(n):\n",
    "        print(f\"\\n[center at i={i} ('{s[i]}')]\")\n",
    "        expand(i, i, f\"odd@{i}\")\n",
    "\n",
    "    print(\"\\n=== Even centers ===\")\n",
    "    for i in range(n-1):\n",
    "        print(f\"\\n[center between {i} ('{s[i]}') and {i+1} ('{s[i+1]}')]\")\n",
    "        expand(i, i+1, f\"even@{i},{i+1}\")\n",
    "\n",
    "    print(\"\\n=== RESULT ===\")\n",
    "    print(f\"Total palindromic substrings = {total}\")\n",
    "    return total, found\n",
    "\n",
    "palindromic_substrings_expand_verbose(\"aaa\")\n"
   ]
  }
 ],
 "metadata": {
  "kernelspec": {
   "display_name": "myenv",
   "language": "python",
   "name": "python3"
  },
  "language_info": {
   "codemirror_mode": {
    "name": "ipython",
    "version": 3
   },
   "file_extension": ".py",
   "mimetype": "text/x-python",
   "name": "python",
   "nbconvert_exporter": "python",
   "pygments_lexer": "ipython3",
   "version": "3.12.9"
  }
 },
 "nbformat": 4,
 "nbformat_minor": 5
}
