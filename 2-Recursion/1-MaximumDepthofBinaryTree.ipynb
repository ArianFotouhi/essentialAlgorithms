{
 "cells": [
  {
   "cell_type": "markdown",
   "id": "8dde949e",
   "metadata": {},
   "source": [
    "# Maximum Depth of Binary Tree"
   ]
  },
  {
   "cell_type": "markdown",
   "id": "14523227",
   "metadata": {},
   "source": [
    "## Goal\n",
    "Given the root of a binary tree, return its maximum depth (number of nodes along the longest path from the root down to a leaf).\n",
    "\n",
    "**💡 Recursive idea**\n",
    "\n",
    "This is the pure recursion form:\n",
    "\n",
    "**Base case:** return 0 if node is None.\n",
    "\n",
    "**Recursive case:** 1 + max(depth of left, depth of right)."
   ]
  },
  {
   "cell_type": "markdown",
   "id": "11c7c78a",
   "metadata": {},
   "source": [
    "```\n",
    "    3\n",
    "   / \\\n",
    "  9  20\n",
    "     / \\\n",
    "    15  7\n",
    "```"
   ]
  },
  {
   "cell_type": "markdown",
   "id": "99a6e3bf",
   "metadata": {},
   "source": [
    "# Base Code"
   ]
  },
  {
   "cell_type": "code",
   "execution_count": 6,
   "id": "46c59eff",
   "metadata": {},
   "outputs": [
    {
     "name": "stdout",
     "output_type": "stream",
     "text": [
      "3\n"
     ]
    }
   ],
   "source": [
    "class TreeNode:\n",
    "    def __init__(self, val=0, left=None, right=None):\n",
    "        self.val = val\n",
    "        self.left = left\n",
    "        self.right = right\n",
    "\n",
    "def maxDepth(root):\n",
    "    if not root:\n",
    "        return 0\n",
    "    return 1 + max(maxDepth(root.left), maxDepth(root.right))\n",
    "\n",
    "root = TreeNode(3,\n",
    "        TreeNode(9),\n",
    "        TreeNode(20, TreeNode(15), TreeNode(7))\n",
    ")\n",
    "\n",
    "print(maxDepth(root))  # Output: 3"
   ]
  },
  {
   "cell_type": "markdown",
   "id": "fd8a9d83",
   "metadata": {},
   "source": [
    "# Pretty Printing"
   ]
  },
  {
   "cell_type": "code",
   "execution_count": 7,
   "id": "9c825aa2",
   "metadata": {},
   "outputs": [
    {
     "name": "stdout",
     "output_type": "stream",
     "text": [
      "🌳 Calculating Maximum Depth:\n",
      "Visiting Node 3 at depth 1\n",
      "Visiting Node 9 at depth 2\n",
      "Reached None at depth 2\n",
      "Reached None at depth 2\n",
      "Node 9: left=0, right=0, return=1\n",
      "Visiting Node 20 at depth 2\n",
      "Visiting Node 15 at depth 3\n",
      "Reached None at depth 3\n",
      "Reached None at depth 3\n",
      "Node 15: left=0, right=0, return=1\n",
      "Visiting Node 7 at depth 3\n",
      "Reached None at depth 3\n",
      "Reached None at depth 3\n",
      "Node 7: left=0, right=0, return=1\n",
      "Node 20: left=1, right=1, return=2\n",
      "Node 3: left=1, right=2, return=3\n",
      "✅ Final Answer: 3\n"
     ]
    }
   ],
   "source": [
    "class TreeNode:\n",
    "    def __init__(self, val=0, left=None, right=None):\n",
    "        self.val = val\n",
    "        self.left = left\n",
    "        self.right = right\n",
    "\n",
    "def maxDepth(root, depth=0):\n",
    "    if not root:\n",
    "        print(f\"Reached None at depth {depth}\")\n",
    "        return 0\n",
    "    \n",
    "    print(f\"Visiting Node {root.val} at depth {depth+1}\")\n",
    "    left = maxDepth(root.left, depth+1)\n",
    "    right = maxDepth(root.right, depth+1)\n",
    "    result = 1 + max(left, right)\n",
    "    print(f\"Node {root.val}: left={left}, right={right}, return={result}\")\n",
    "    return result\n",
    "\n",
    "# Example\n",
    "root = TreeNode(3,\n",
    "        TreeNode(9),\n",
    "        TreeNode(20, TreeNode(15), TreeNode(7))\n",
    ")\n",
    "\n",
    "print(\"🌳 Calculating Maximum Depth:\")\n",
    "depth = maxDepth(root)\n",
    "print(f\"✅ Final Answer: {depth}\")"
   ]
  }
 ],
 "metadata": {
  "kernelspec": {
   "display_name": "myenv",
   "language": "python",
   "name": "python3"
  },
  "language_info": {
   "codemirror_mode": {
    "name": "ipython",
    "version": 3
   },
   "file_extension": ".py",
   "mimetype": "text/x-python",
   "name": "python",
   "nbconvert_exporter": "python",
   "pygments_lexer": "ipython3",
   "version": "3.12.9"
  }
 },
 "nbformat": 4,
 "nbformat_minor": 5
}
