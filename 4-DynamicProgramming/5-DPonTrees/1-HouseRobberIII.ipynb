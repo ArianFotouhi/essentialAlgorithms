{
 "cells": [
  {
   "cell_type": "markdown",
   "id": "e3581829",
   "metadata": {},
   "source": [
    "# 337. House Robber III\n",
    "\n",
    "\n",
    "The thief has found himself a new place for his thievery again. There is only one entrance to this area, called root.\n",
    "\n",
    "Besides the root, each house has one and only one parent house. After a tour, the smart thief realized that all houses in this place form a binary tree. It will automatically **contact the police** if **two directly-linked houses were broken into** on the same night.\n",
    "\n",
    "Given the root of the binary tree, return the maximum amount of money the thief can rob **without alerting the police**.\n",
    "\n",
    "# Example 1:\n",
    "```\n",
    "        3\n",
    "       / \\\n",
    "      2   3\n",
    "       \\    \\\n",
    "        3    1\n",
    "```\n",
    "- Input: root = [3,2,3,null,3,null,1]\n",
    "- Output: 7\n",
    "- Explanation: Maximum amount of money the thief can rob = 3 + 3 + 1 = 7. Option two was 2 + 3 = 5 (no parent and its child taking is permitted, only parent and grandson or children only).\n",
    "\n",
    "# Example 2:\n",
    "```\n",
    "        3\n",
    "       / \\\n",
    "      4   5\n",
    "     / \\    \\\n",
    "    1   3    1\n",
    "```\n",
    "- Input: root = [3,4,5,1,3,null,1]\n",
    "- Output: 9\n",
    "- Explanation: Maximum amount of money the thief can rob = 4 + 5 = 9. \n",
    "- Other options were, you take root = 3, the valid set would be: 3 + 1 + 3 + 1 = 8. Also, why not 3 + 4 + 3 = 10?\n",
    "\n",
    "Example of not permitted option: root(3) + left(4) + left-right(3).\n",
    "\n",
    "But that’s illegal because you can’t rob a node and its child."
   ]
  }
 ],
 "metadata": {
  "language_info": {
   "name": "python"
  }
 },
 "nbformat": 4,
 "nbformat_minor": 5
}
