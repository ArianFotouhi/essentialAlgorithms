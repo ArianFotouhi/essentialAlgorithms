{
 "cells": [
  {
   "cell_type": "markdown",
   "id": "333efbcf",
   "metadata": {},
   "source": [
    "# 687 — Longest Univalue Path\n",
    "\n",
    "For each node `u`, we want the **longest downward path (in edges)** that:\n",
    "\n",
    "* starts at `u`\n",
    "* only goes to children with the **same value** as `u`.\n",
    "\n",
    "Let:\n",
    "\n",
    "* `L` = longest downward same-value path from `u.left` **that can extend to `u`**\n",
    "* `R` = longest downward same-value path from `u.right` **that can extend to `u`**\n",
    "\n",
    "We compute:\n",
    "\n",
    "* `extend_left = L + 1` **iff** `u.left` exists and `u.left.val == u.val`, else `0`\n",
    "* `extend_right = R + 1` **iff** `u.right` exists and `u.right.val == u.val`, else `0`\n",
    "\n",
    "Then:\n",
    "\n",
    "* The best path **through** `u` (turning at `u`) is `extend_left + extend_right`.\n",
    "* Update a global answer: `ans = max(ans, extend_left + extend_right)`.\n",
    "* Return **upwards** the best single-branch extension: `max(extend_left, extend_right)` (since a parent can only take one side).\n",
    "\n",
    "### Why edges, not nodes?\n",
    "\n",
    "The problem asks for length in **edges**. Each time we extend to a child, we add `+1` (one edge). Returning `0` means we don’t extend at all.\n",
    "\n",
    "### Complexity\n",
    "\n",
    "* **Time:** `O(n)` (each node visited once)\n",
    "* **Space:** `O(h)` recursion stack (`h` = tree height), worst-case `O(n)`\n",
    "\n",
    "\n",
    "### Example 1\n",
    "\n",
    "Input: `root = [5,4,5,1,1,null,5]`\n",
    "Output: `2` (longest chain of 5’s)\n",
    "\n",
    "```\n",
    "           5\n",
    "         /   \\\n",
    "        4     5\n",
    "       / \\     \\\n",
    "      1   1     5\n",
    "\n",
    "Longest univalue path (value = 5):\n",
    "Right chain: 5 -- 5 -- 5  => length = 2 edges\n",
    "```\n",
    "\n",
    "### Example 2\n",
    "\n",
    "Input: `root = [1,4,5,4,4,null,5]`\n",
    "Output: `2` (longest chain of 4’s)\n",
    "\n",
    "```\n",
    "           1\n",
    "         /   \\\n",
    "        4     5\n",
    "       / \\     \\\n",
    "      4   4     5\n",
    "\n",
    "Longest univalue path (value = 4) through the left subtree:\n",
    "4 -- 4 -- 4  => length = 2 edges\n",
    "```"
   ]
  },
  {
   "cell_type": "code",
   "execution_count": 1,
   "id": "7e62ae1a",
   "metadata": {},
   "outputs": [],
   "source": [
    "from collections import deque\n",
    "\n",
    "class TreeNode:\n",
    "    def __init__(self, val=0, left=None, right=None):\n",
    "        self.val, self.left, self.right = val, left, right\n",
    "\n",
    "def build_tree(arr):\n",
    "    if not arr: return None\n",
    "    root = TreeNode(arr[0])\n",
    "    q, i = deque([root]), 1\n",
    "    while q and i < len(arr):\n",
    "        node = q.popleft()\n",
    "        if arr[i] is not None:\n",
    "            node.left = TreeNode(arr[i]); q.append(node.left)\n",
    "        i += 1\n",
    "        if i < len(arr) and arr[i] is not None:\n",
    "            node.right = TreeNode(arr[i]); q.append(node.right)\n",
    "        i += 1\n",
    "    return root"
   ]
  },
  {
   "cell_type": "markdown",
   "id": "c8ef0779",
   "metadata": {},
   "source": [
    "# Base Version"
   ]
  },
  {
   "cell_type": "code",
   "execution_count": null,
   "id": "415c6d21",
   "metadata": {},
   "outputs": [],
   "source": [
    "def longestUnivaluePath(root):\n",
    "    ans = 0\n",
    "    def dfs(node):\n",
    "        nonlocal ans\n",
    "        if not node: return 0\n",
    "        L, R = dfs(node.left), dfs(node.right)\n",
    "        l = r = 0\n",
    "        if node.left and node.left.val == node.val: l = L + 1\n",
    "        if node.right and node.right.val == node.val: r = R + 1\n",
    "        ans = max(ans, l + r)\n",
    "        return max(l, r)\n",
    "    dfs(root)\n",
    "    return ans"
   ]
  },
  {
   "cell_type": "code",
   "execution_count": 6,
   "id": "9f5914c7",
   "metadata": {},
   "outputs": [
    {
     "name": "stdout",
     "output_type": "stream",
     "text": [
      "2\n"
     ]
    }
   ],
   "source": [
    "# Example 1\n",
    "root = build_tree([5,4,5,1,1,None,5])\n",
    "print(longestUnivaluePath(root))"
   ]
  },
  {
   "cell_type": "markdown",
   "id": "1034fee7",
   "metadata": {},
   "source": [
    "# Verbose Version"
   ]
  },
  {
   "cell_type": "code",
   "execution_count": 8,
   "id": "edb86d33",
   "metadata": {},
   "outputs": [
    {
     "name": "stdout",
     "output_type": "stream",
     "text": [
      "Example 1:\n",
      "→ Visiting node 5\n",
      "  → Visiting node 4\n",
      "    → Visiting node 1\n",
      "    Node 1: L=0, R=0, l=0, r=0, ans(before)=0\n",
      "    Node 1: ans(updated)=0, return=0\n",
      "    → Visiting node 1\n",
      "    Node 1: L=0, R=0, l=0, r=0, ans(before)=0\n",
      "    Node 1: ans(updated)=0, return=0\n",
      "  Node 4: L=0, R=0, l=0, r=0, ans(before)=0\n",
      "  Node 4: ans(updated)=0, return=0\n",
      "  → Visiting node 5\n",
      "    → Visiting node 5\n",
      "    Node 5: L=0, R=0, l=0, r=0, ans(before)=0\n",
      "    Node 5: ans(updated)=0, return=0\n",
      "  Node 5: L=0, R=0, l=0, r=1, ans(before)=0\n",
      "  Node 5: ans(updated)=1, return=1\n",
      "Node 5: L=0, R=1, l=0, r=2, ans(before)=1\n",
      "Node 5: ans(updated)=2, return=2\n",
      "Final Answer = 2\n"
     ]
    },
    {
     "data": {
      "text/plain": [
       "2"
      ]
     },
     "execution_count": 8,
     "metadata": {},
     "output_type": "execute_result"
    }
   ],
   "source": [
    "def longestUnivaluePath(root):\n",
    "    ans = 0\n",
    "    def dfs(node, depth=0):\n",
    "        nonlocal ans\n",
    "        if not node: return 0\n",
    "        indent = \"  \" * depth\n",
    "        print(f\"{indent}→ Visiting node {node.val}\")\n",
    "\n",
    "        L = dfs(node.left, depth+1)\n",
    "        R = dfs(node.right, depth+1)\n",
    "\n",
    "        l = r = 0\n",
    "        if node.left and node.left.val == node.val:\n",
    "            l = L + 1\n",
    "        if node.right and node.right.val == node.val:\n",
    "            r = R + 1\n",
    "\n",
    "        print(f\"{indent}Node {node.val}: L={L}, R={R}, l={l}, r={r}, ans(before)={ans}\")\n",
    "        ans = max(ans, l + r)\n",
    "        ret = max(l, r)\n",
    "        print(f\"{indent}Node {node.val}: ans(updated)={ans}, return={ret}\")\n",
    "        return ret\n",
    "\n",
    "    dfs(root)\n",
    "    print(f\"Final Answer = {ans}\")\n",
    "    return ans\n",
    "\n",
    "# Example 1\n",
    "print(\"Example 1:\")\n",
    "root = build_tree([5,4,5,1,1,None,5])\n",
    "longestUnivaluePath(root)"
   ]
  }
 ],
 "metadata": {
  "kernelspec": {
   "display_name": "myenv",
   "language": "python",
   "name": "python3"
  },
  "language_info": {
   "codemirror_mode": {
    "name": "ipython",
    "version": 3
   },
   "file_extension": ".py",
   "mimetype": "text/x-python",
   "name": "python",
   "nbconvert_exporter": "python",
   "pygments_lexer": "ipython3",
   "version": "3.12.9"
  }
 },
 "nbformat": 4,
 "nbformat_minor": 5
}
