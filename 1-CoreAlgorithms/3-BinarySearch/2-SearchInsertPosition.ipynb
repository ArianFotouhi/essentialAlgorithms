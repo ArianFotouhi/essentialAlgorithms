{
 "cells": [
  {
   "cell_type": "markdown",
   "id": "4de82930",
   "metadata": {},
   "source": [
    "# Search Insert Position\n",
    "\n",
    "Given a sorted array of distinct integers nums and a target value target, return the index if the target is found. \n",
    "\n",
    "If not, return the index **where it would be if it were inserted** in order.\n",
    "\n",
    "\n",
    "You must write an algorithm with **O(log n)** runtime complexity.\n",
    "\n"
   ]
  },
  {
   "cell_type": "code",
   "execution_count": 1,
   "id": "f76a5904",
   "metadata": {},
   "outputs": [],
   "source": [
    "def searchInsert(nums, target):\n",
    "    left, right = 0, len(nums) - 1\n",
    "    \n",
    "    while left <= right:\n",
    "        mid = (left + right) // 2\n",
    "        \n",
    "        if nums[mid] < target:\n",
    "            left = mid + 1\n",
    "        else:\n",
    "            right = mid - 1\n",
    "\n",
    "    print(\"The found index is\", left)    \n",
    "    return left  # Correct position to insert\n"
   ]
  },
  {
   "cell_type": "code",
   "execution_count": 2,
   "id": "b8cef711",
   "metadata": {},
   "outputs": [
    {
     "name": "stdout",
     "output_type": "stream",
     "text": [
      "The found index is 2\n"
     ]
    },
    {
     "data": {
      "text/plain": [
       "2"
      ]
     },
     "execution_count": 2,
     "metadata": {},
     "output_type": "execute_result"
    }
   ],
   "source": [
    "nums = [1, 3, 5, 6]\n",
    "target = 5\n",
    "searchInsert(nums, target)"
   ]
  },
  {
   "cell_type": "code",
   "execution_count": null,
   "id": "eb58957e",
   "metadata": {},
   "outputs": [
    {
     "name": "stdout",
     "output_type": "stream",
     "text": [
      "The found index is 1\n"
     ]
    },
    {
     "data": {
      "text/plain": [
       "1"
      ]
     },
     "execution_count": 3,
     "metadata": {},
     "output_type": "execute_result"
    }
   ],
   "source": [
    "nums = [1, 3, 5, 6]\n",
    "target = 2\n",
    "\n",
    "searchInsert(nums, target)"
   ]
  },
  {
   "cell_type": "markdown",
   "id": "c1535df4",
   "metadata": {},
   "source": [
    "# Binary Search vs Search Insert Postions Porblem — What's the Real Difference?\n"
   ]
  },
  {
   "cell_type": "markdown",
   "id": "b5c88e03",
   "metadata": {},
   "source": [
    "## Binary Search\n",
    "\n",
    "```python\n",
    "while left <= right:\n",
    "    mid = (left + right) // 2\n",
    "    if nums[mid] == target:\n",
    "        return mid  # Exit immediately when found\n",
    "    elif nums[mid] < target:\n",
    "        left = mid + 1\n",
    "    else:\n",
    "        right = mid - 1\n",
    "```\n",
    "- We return immediately when nums[mid] == target.\n",
    "\n",
    "- If the target is not found, we return -1.\n",
    "\n",
    "## Search Insert Position\n",
    "\n",
    "```python\n",
    "while left <= right:\n",
    "    mid = (left + right) // 2\n",
    "    if nums[mid] < target:\n",
    "        left = mid + 1\n",
    "    else:\n",
    "        right = mid - 1\n",
    "return left  # Return insertion point whether or not target exists\n",
    "```\n",
    "\n",
    "- We do not return when nums[mid] == target.\n",
    "\n",
    "- Instead, we let the loop run until left > right, and return left as the insertion point."
   ]
  },
  {
   "cell_type": "markdown",
   "id": "569c28d8",
   "metadata": {},
   "source": [
    "# 🧠 But Wait... if the Target Exists, Won’t left == mid?\n",
    "\n",
    "Yes — in the case where the target exists, left will eventually land on the correct index — but it might not be the first time we see it.\n",
    "\n",
    "```python\n",
    "nums = [1, 3, 5, 6]\n",
    "target = 3\n",
    "```\n",
    "In Problem Binary Search, as soon as we hit nums[mid] == 3, we return mid = 1.\n",
    "\n",
    "In Problem Insert Position, even though we find 3, we keep going to ensure we find the insertion point.\n",
    "\n",
    "In this case, left will also end up at 1, so we return the same value.\n",
    "\n",
    "So yes — when the element exists, both can return the same index — but they do it for different reasons."
   ]
  },
  {
   "cell_type": "markdown",
   "id": "141813e3",
   "metadata": {},
   "source": [
    "# 🎓 Final Rule of Thumb\n",
    "\n",
    "| Problem Type          | Loop Return                             | Purpose                                    |\n",
    "| --------------------- | --------------------------------------- | ------------------------------------------ |\n",
    "| **Exact match (704)** | `return mid` when `nums[mid] == target` | Find one occurrence                        |\n",
    "| **Lower bound (35)**  | `return left`                           | First element ≥ target or insert position  |\n",
    "| **Upper bound**       | `return right`                          | Last element ≤ target (or last occurrence) |\n",
    "\n",
    "\n",
    "---\n",
    "---\n",
    "\n",
    "\n",
    "## 🧪 Quick Example:\n",
    "nums = [1, 2, 4, 4, 4, 6], target = 4\n",
    "\n",
    "| Goal                   | Return Value  | Why           |\n",
    "| ---------------------- | ------------- | ------------- |\n",
    "| Exact match            | `mid = 2/3/4` | Any of the 4s |\n",
    "| Lower bound (≥ target) | `left = 2`    | First 4       |\n",
    "| Upper bound (≤ target) | `right = 4`   | Last 4        |\n",
    "\n"
   ]
  }
 ],
 "metadata": {
  "kernelspec": {
   "display_name": "base",
   "language": "python",
   "name": "python3"
  },
  "language_info": {
   "codemirror_mode": {
    "name": "ipython",
    "version": 3
   },
   "file_extension": ".py",
   "mimetype": "text/x-python",
   "name": "python",
   "nbconvert_exporter": "python",
   "pygments_lexer": "ipython3",
   "version": "3.12.7"
  }
 },
 "nbformat": 4,
 "nbformat_minor": 5
}
