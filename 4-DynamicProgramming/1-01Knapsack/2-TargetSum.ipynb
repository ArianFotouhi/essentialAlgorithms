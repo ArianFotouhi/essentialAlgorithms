{
 "cells": [
  {
   "cell_type": "markdown",
   "id": "2923e512",
   "metadata": {},
   "source": [
    "# 494 — Target Sum"
   ]
  },
  {
   "cell_type": "markdown",
   "id": "c1b5f01d",
   "metadata": {},
   "source": [
    "You are given an integer array nums and an integer target.\n",
    "\n",
    "You want to build an expression out of nums by adding one of the symbols `'+'` and `'-'` before each integer in nums and then concatenate all the integers.\n",
    "\n",
    "- For example, if `nums = [2, 1]`, you can add a `'+'` before 2 and a `'-'` before `1` and concatenate them to build the expression `\"+2-1\"`.\n",
    "\n",
    ">> Return the number of different expressions that you can build, which evaluates to target."
   ]
  },
  {
   "cell_type": "markdown",
   "id": "695bbb5a",
   "metadata": {},
   "source": [
    ">> Example 1:\n",
    "\n",
    "- Input: nums = [1,1,1,1,1], target = 3\n",
    "- Output: 5\n",
    "\n",
    "```\n",
    "Explanation: There are 5 ways to assign symbols to make the sum of nums be target 3.\n",
    "\n",
    "-1 + 1 + 1 + 1 + 1 = 3\n",
    "+1 - 1 + 1 + 1 + 1 = 3\n",
    "+1 + 1 - 1 + 1 + 1 = 3\n",
    "+1 + 1 + 1 - 1 + 1 = 3\n",
    "+1 + 1 + 1 + 1 - 1 = 3\n",
    "```\n",
    "\n",
    ">> Example 2:\n",
    "\n",
    "- Input: nums = [1], target = 1\n",
    "- Output: 1\n"
   ]
  },
  {
   "cell_type": "markdown",
   "id": "45dc27a3",
   "metadata": {},
   "source": [
    "# Base Version"
   ]
  },
  {
   "cell_type": "code",
   "execution_count": 4,
   "id": "8f0e919a",
   "metadata": {},
   "outputs": [
    {
     "data": {
      "text/plain": [
       "5"
      ]
     },
     "execution_count": 4,
     "metadata": {},
     "output_type": "execute_result"
    }
   ],
   "source": [
    "from typing import List\n",
    "\n",
    "def findTargetSumWays(nums: List[int], target: int) -> int:\n",
    "    S = sum(nums)\n",
    "    if abs(target) > S or (S + target) % 2:\n",
    "        return 0\n",
    "    P = (S + target) // 2\n",
    "\n",
    "    dp = [0] * (P + 1)\n",
    "    dp[0] = 1  # one way to make sum 0: pick nothing\n",
    "\n",
    "    for x in nums:\n",
    "        for s in range(P, x - 1, -1):\n",
    "            dp[s] += dp[s - x]\n",
    "    return dp[P]\n",
    "\n",
    "findTargetSumWays([1, 1, 1, 1, 1], 3)  # Output: 5"
   ]
  },
  {
   "cell_type": "markdown",
   "id": "03b85de0",
   "metadata": {},
   "source": [
    "# Verbose Version"
   ]
  },
  {
   "cell_type": "code",
   "execution_count": 5,
   "id": "8e262613",
   "metadata": {},
   "outputs": [
    {
     "name": "stdout",
     "output_type": "stream",
     "text": [
      "\n",
      "Example 1:\n",
      "=== Target Sum — Verbose Trace ===\n",
      "Input nums: [1, 1, 1, 1, 1], target: 3\n",
      "Total sum = 5\n",
      "Equivalent subset-sum target P = (S+target)//2 = 4\n",
      "Initial dp (dp[s] = number of ways to get sum s):\n",
      "  [1, 0, 0, 0, 0]\n",
      "\n",
      "-- Item 0 | value = 1 --\n",
      "  Sums changed: [1]\n",
      "  dp after this item:\n",
      "  [1, 1, 0, 0, 0]\n",
      "\n",
      "-- Item 1 | value = 1 --\n",
      "  Sums changed: [1, 2]\n",
      "  dp after this item:\n",
      "  [1, 2, 1, 0, 0]\n",
      "\n",
      "-- Item 2 | value = 1 --\n",
      "  Sums changed: [1, 2, 3]\n",
      "  dp after this item:\n",
      "  [1, 3, 3, 1, 0]\n",
      "\n",
      "-- Item 3 | value = 1 --\n",
      "  Sums changed: [1, 2, 3, 4]\n",
      "  dp after this item:\n",
      "  [1, 4, 6, 4, 1]\n",
      "\n",
      "-- Item 4 | value = 1 --\n",
      "  Sums changed: [1, 2, 3, 4]\n",
      "  dp after this item:\n",
      "  [1, 5, 10, 10, 5]\n",
      "\n",
      "Answer = dp[P] = 5\n"
     ]
    }
   ],
   "source": [
    "from typing import List, Iterable\n",
    "\n",
    "def _summarize_counts(dp: List[int], max_items: int = 20) -> str:\n",
    "    \"\"\"Pretty-print dp counts with truncation for large arrays.\"\"\"\n",
    "    n = len(dp)\n",
    "    if n <= max_items:\n",
    "        return str(dp)\n",
    "    half = max_items // 2\n",
    "    head = \", \".join(map(str, dp[:half]))\n",
    "    tail = \", \".join(map(str, dp[-half:]))\n",
    "    return f\"[{head}, …, {tail}] (len={n})\"\n",
    "\n",
    "def findTargetSumWays_verbose(nums: List[int], target: int, max_items_to_show: int = 20) -> int:\n",
    "    \"\"\"\n",
    "    Verbose version of LeetCode 494: Target Sum.\n",
    "    Prints DP state evolution step by step.\n",
    "    \"\"\"\n",
    "    print(\"=== Target Sum — Verbose Trace ===\")\n",
    "    print(f\"Input nums: {nums}, target: {target}\")\n",
    "    S = sum(nums)\n",
    "    print(f\"Total sum = {S}\")\n",
    "\n",
    "    if abs(target) > S:\n",
    "        print(\"Target outside achievable range -> 0 ways\")\n",
    "        return 0\n",
    "    if (S + target) % 2 == 1:\n",
    "        print(\"S + target is odd -> cannot split into integer subset sum -> 0 ways\")\n",
    "        return 0\n",
    "\n",
    "    P = (S + target) // 2\n",
    "    print(f\"Equivalent subset-sum target P = (S+target)//2 = {P}\")\n",
    "\n",
    "    dp = [0] * (P + 1)\n",
    "    dp[0] = 1\n",
    "    print(\"Initial dp (dp[s] = number of ways to get sum s):\")\n",
    "    print(\" \", _summarize_counts(dp, max_items_to_show))\n",
    "\n",
    "    for idx, x in enumerate(nums):\n",
    "        print(f\"\\n-- Item {idx} | value = {x} --\")\n",
    "        new_dp = dp[:]  # just for printing what changes\n",
    "        for s in range(P, x - 1, -1):\n",
    "            new_dp[s] = dp[s] + dp[s - x]\n",
    "        changed = [i for i in range(P+1) if new_dp[i] != dp[i]]\n",
    "        dp = new_dp\n",
    "        print(f\"  Sums changed: {changed if len(changed)<=max_items_to_show else f'{len(changed)} sums changed'}\")\n",
    "        print(\"  dp after this item:\")\n",
    "        print(\" \", _summarize_counts(dp, max_items_to_show))\n",
    "\n",
    "    print(f\"\\nAnswer = dp[P] = {dp[P]}\")\n",
    "    return dp[P]\n",
    "\n",
    "# --- Example runs ---\n",
    "if __name__ == \"__main__\":\n",
    "    print(\"\\nExample 1:\")\n",
    "    findTargetSumWays_verbose([1, 1, 1, 1, 1], 3)\n",
    "\n",
    "    # print(\"\\nExample 2:\")\n",
    "    # findTargetSumWays_verbose([1, 2, 3, 4], 0)\n"
   ]
  }
 ],
 "metadata": {
  "kernelspec": {
   "display_name": "myenv",
   "language": "python",
   "name": "python3"
  },
  "language_info": {
   "codemirror_mode": {
    "name": "ipython",
    "version": 3
   },
   "file_extension": ".py",
   "mimetype": "text/x-python",
   "name": "python",
   "nbconvert_exporter": "python",
   "pygments_lexer": "ipython3",
   "version": "3.12.9"
  }
 },
 "nbformat": 4,
 "nbformat_minor": 5
}
