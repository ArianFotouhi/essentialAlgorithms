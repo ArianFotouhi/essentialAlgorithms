{
 "cells": [
  {
   "cell_type": "markdown",
   "id": "10ea7b4e",
   "metadata": {},
   "source": [
    "# Corporate Flight Bookings\n",
    "\n",
    "🧾 Problem Summary\n",
    "You're given:\n",
    "\n",
    "An integer n, the number of flights (1 to n).\n",
    "\n",
    "A list of bookings, where each booking is a triplet [first, last, seats]:\n",
    "\n",
    "It means that seats passengers booked each flight from first to last inclusive.\n",
    "\n",
    "🔹 You must return an array of length n, where each element at index i represents the total seats booked on flight i+1."
   ]
  },
  {
   "cell_type": "code",
   "execution_count": 1,
   "id": "8d5490a4",
   "metadata": {},
   "outputs": [],
   "source": [
    "def corpFlightBookings(bookings, n):\n",
    "    diff = [0] * (n + 1)\n",
    "    print(f\"Initial diff array: {diff}\\n\")\n",
    "    \n",
    "    # Step 1: Apply bookings to the difference array\n",
    "    for idx, (first, last, seats) in enumerate(bookings):\n",
    "        print(f\"Booking {idx+1}: Add {seats} from flight {first} to {last}\")\n",
    "        diff[first - 1] += seats\n",
    "        if last < n:\n",
    "            diff[last] -= seats\n",
    "        print(f\"Updated diff array after booking {idx+1}: {diff}\\n\")\n",
    "    \n",
    "    # Step 2: Build result array using prefix sum\n",
    "    res = [0] * n\n",
    "    res[0] = diff[0]\n",
    "    print(f\"res[0] = diff[0] = {res[0]}\")\n",
    "    \n",
    "    for i in range(1, n):\n",
    "        res[i] = res[i - 1] + diff[i]\n",
    "        print(f\"res[{i}] = res[{i-1}] + diff[{i}] = {res[i-1]} + {diff[i]} = {res[i]}\")\n",
    "    \n",
    "    print(f\"\\nFinal result: {res}\")\n",
    "    return res"
   ]
  },
  {
   "cell_type": "code",
   "execution_count": 2,
   "id": "f6f168e0",
   "metadata": {},
   "outputs": [
    {
     "name": "stdout",
     "output_type": "stream",
     "text": [
      "Initial diff array: [0, 0, 0, 0, 0, 0]\n",
      "\n",
      "Booking 1: Add 10 from flight 1 to 2\n",
      "Updated diff array after booking 1: [10, 0, -10, 0, 0, 0]\n",
      "\n",
      "Booking 2: Add 20 from flight 2 to 3\n",
      "Updated diff array after booking 2: [10, 20, -10, -20, 0, 0]\n",
      "\n",
      "Booking 3: Add 25 from flight 2 to 5\n",
      "Updated diff array after booking 3: [10, 45, -10, -20, 0, 0]\n",
      "\n",
      "res[0] = diff[0] = 10\n",
      "res[1] = res[0] + diff[1] = 10 + 45 = 55\n",
      "res[2] = res[1] + diff[2] = 55 + -10 = 45\n",
      "res[3] = res[2] + diff[3] = 45 + -20 = 25\n",
      "res[4] = res[3] + diff[4] = 25 + 0 = 25\n",
      "\n",
      "Final result: [10, 55, 45, 25, 25]\n"
     ]
    },
    {
     "data": {
      "text/plain": [
       "[10, 55, 45, 25, 25]"
      ]
     },
     "execution_count": 2,
     "metadata": {},
     "output_type": "execute_result"
    }
   ],
   "source": [
    "bookings = [[1, 2, 10], [2, 3, 20], [2, 5, 25]]\n",
    "n = 5\n",
    "corpFlightBookings(bookings, n)"
   ]
  }
 ],
 "metadata": {
  "kernelspec": {
   "display_name": "base",
   "language": "python",
   "name": "python3"
  },
  "language_info": {
   "codemirror_mode": {
    "name": "ipython",
    "version": 3
   },
   "file_extension": ".py",
   "mimetype": "text/x-python",
   "name": "python",
   "nbconvert_exporter": "python",
   "pygments_lexer": "ipython3",
   "version": "3.12.7"
  }
 },
 "nbformat": 4,
 "nbformat_minor": 5
}
