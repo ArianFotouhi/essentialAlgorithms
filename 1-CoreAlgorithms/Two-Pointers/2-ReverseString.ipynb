{
 "cells": [
  {
   "cell_type": "markdown",
   "id": "bea6ce14",
   "metadata": {},
   "source": [
    "# Reverse String\n",
    "Reverse a string s = [\"h\", \"e\", \"l\", \"l\", \"o\"]."
   ]
  },
  {
   "cell_type": "code",
   "execution_count": 3,
   "id": "e56751a2",
   "metadata": {},
   "outputs": [],
   "source": [
    "s = [\"h\", \"e\", \"l\", \"l\", \"o\"]"
   ]
  },
  {
   "cell_type": "code",
   "execution_count": null,
   "id": "2221e759",
   "metadata": {},
   "outputs": [
    {
     "name": "stdout",
     "output_type": "stream",
     "text": [
      "Swapping: s[0] = h, s[4] = o\n",
      "Swapping: s[1] = e, s[3] = l\n",
      "Reversed string: ['o', 'l', 'l', 'e', 'h']\n"
     ]
    }
   ],
   "source": [
    "def reverseString(s):\n",
    "    left, right = 0, len(s) - 1\n",
    "\n",
    "    while left < right:\n",
    "        print(f\"Swapping: s[{left}] = {s[left]}, s[{right}] = {s[right]}\")\n",
    "\n",
    "        s[left], s[right] = s[right], s[left]\n",
    "\n",
    "        left += 1\n",
    "        right -= 1\n",
    "    print(f\"Reversed string: {s}\")\n",
    "reverseString(s)"
   ]
  }
 ],
 "metadata": {
  "kernelspec": {
   "display_name": "base",
   "language": "python",
   "name": "python3"
  },
  "language_info": {
   "codemirror_mode": {
    "name": "ipython",
    "version": 3
   },
   "file_extension": ".py",
   "mimetype": "text/x-python",
   "name": "python",
   "nbconvert_exporter": "python",
   "pygments_lexer": "ipython3",
   "version": "3.12.7"
  }
 },
 "nbformat": 4,
 "nbformat_minor": 5
}
