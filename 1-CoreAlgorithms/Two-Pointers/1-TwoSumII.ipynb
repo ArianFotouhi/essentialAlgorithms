{
 "cells": [
  {
   "cell_type": "markdown",
   "id": "b1ae0bcd",
   "metadata": {},
   "source": [
    "# Two Sum II – Sorted Input\n",
    "Problem: Given a sorted array numbers = [2, 7, 11, 15] and a target = 9, return indices of the two numbers that add up to target.\n"
   ]
  },
  {
   "cell_type": "code",
   "execution_count": 3,
   "id": "7f1745eb",
   "metadata": {},
   "outputs": [],
   "source": [
    "numbers = [2, 7, 11, 15] \n",
    "target = 9"
   ]
  },
  {
   "cell_type": "code",
   "execution_count": 7,
   "id": "875c180a",
   "metadata": {},
   "outputs": [
    {
     "name": "stdout",
     "output_type": "stream",
     "text": [
      "Checking: numbers[0] + numbers[3] = 2 + 15 = 17\n",
      "Checking: numbers[0] + numbers[2] = 2 + 11 = 13\n",
      "Checking: numbers[0] + numbers[1] = 2 + 7 = 9\n"
     ]
    },
    {
     "data": {
      "text/plain": [
       "[1, 2]"
      ]
     },
     "execution_count": 7,
     "metadata": {},
     "output_type": "execute_result"
    }
   ],
   "source": [
    "def twoSum(numbers, target):\n",
    "    left, right = 0, len(numbers) - 1\n",
    "\n",
    "    while left < right:\n",
    "        curr_sum = numbers[left] + numbers[right]\n",
    "        # Print the state at each step\n",
    "        print(f\"Checking: numbers[{left}] + numbers[{right}] = {numbers[left]} + {numbers[right]} = {curr_sum}\")\n",
    "\n",
    "        if curr_sum == target:\n",
    "            return [left + 1, right + 1]  # 1-based index\n",
    "        elif curr_sum < target:\n",
    "            left += 1\n",
    "        else:\n",
    "            right -= 1\n",
    "twoSum(numbers, target)"
   ]
  }
 ],
 "metadata": {
  "kernelspec": {
   "display_name": ".venv",
   "language": "python",
   "name": "python3"
  },
  "language_info": {
   "codemirror_mode": {
    "name": "ipython",
    "version": 3
   },
   "file_extension": ".py",
   "mimetype": "text/x-python",
   "name": "python",
   "nbconvert_exporter": "python",
   "pygments_lexer": "ipython3",
   "version": "3.12.3"
  }
 },
 "nbformat": 4,
 "nbformat_minor": 5
}
