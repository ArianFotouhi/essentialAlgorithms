{
 "cells": [
  {
   "cell_type": "markdown",
   "id": "02a77557",
   "metadata": {},
   "source": [
    "# 994 - Rotting Oranges"
   ]
  }
 ],
 "metadata": {
  "language_info": {
   "name": "python"
  }
 },
 "nbformat": 4,
 "nbformat_minor": 5
}
