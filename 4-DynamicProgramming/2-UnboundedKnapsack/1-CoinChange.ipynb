{
 "cells": [
  {
   "cell_type": "markdown",
   "id": "d60bfb44",
   "metadata": {},
   "source": [
    "# 322 – Coin Change"
   ]
  },
  {
   "cell_type": "markdown",
   "id": "c636c646",
   "metadata": {},
   "source": [
    "You are given an integer array coins representing coins of different denominations and an integer amount representing a total amount of money.\n",
    "\n",
    "Return the fewest number of coins that you need to make up that amount. If that amount of money cannot be made up by any combination of the coins, return -1.\n",
    "\n",
    "You may assume that you have an infinite number of each kind of coin.\n",
    "\n",
    "\n",
    "### Example 1:\n",
    "\n",
    "- Input: coins = [1,2,5], amount = 11\n",
    "- Output: 3\n",
    "- Explanation: 11 = 5 + 5 + 1\n",
    "\n",
    "### Example 2:\n",
    "\n",
    "- Input: coins = [2], amount = 3\n",
    "- Output: -1\n",
    "\n",
    "### Example 3:\n",
    "\n",
    "- Input: coins = [1], amount = 0\n",
    "- Output: 0\n"
   ]
  },
  {
   "cell_type": "markdown",
   "id": "8259fdb7",
   "metadata": {},
   "source": [
    "# Base Version"
   ]
  },
  {
   "cell_type": "code",
   "execution_count": 5,
   "id": "fbf4e595",
   "metadata": {},
   "outputs": [
    {
     "data": {
      "text/plain": [
       "3"
      ]
     },
     "execution_count": 5,
     "metadata": {},
     "output_type": "execute_result"
    }
   ],
   "source": [
    "from math import inf\n",
    "from typing import List\n",
    "\n",
    "def coinChange(coins: List[int], amount: int) -> int:\n",
    "    dp = [inf] * (amount + 1)\n",
    "    dp[0] = 0\n",
    "    for coin in coins:\n",
    "        for x in range(coin, amount + 1):\n",
    "            dp[x] = min(dp[x], dp[x - coin] + 1)\n",
    "    return dp[amount] if dp[amount] != inf else -1\n",
    "\n",
    "coinChange([1, 2, 5], 11)"
   ]
  },
  {
   "cell_type": "markdown",
   "id": "1bb364c8",
   "metadata": {},
   "source": [
    "# Verbose Version"
   ]
  },
  {
   "cell_type": "code",
   "execution_count": 6,
   "id": "3ed28d19",
   "metadata": {},
   "outputs": [
    {
     "name": "stdout",
     "output_type": "stream",
     "text": [
      "=== Coin Change (Minimum Coins) — Verbose Trace ===\n",
      "Coins: [1, 2, 5], Target amount: 11\n",
      "Initial dp: [0, inf, inf, inf, inf, inf, inf, inf, inf, inf, inf, inf]\n",
      "\n",
      "-- Processing coin: 1 --\n",
      "  Updating dp[1] from inf to 1 (using coin 1)\n",
      "  Updating dp[2] from inf to 2 (using coin 1)\n",
      "  Updating dp[3] from inf to 3 (using coin 1)\n",
      "  Updating dp[4] from inf to 4 (using coin 1)\n",
      "  Updating dp[5] from inf to 5 (using coin 1)\n",
      "  Updating dp[6] from inf to 6 (using coin 1)\n",
      "  Updating dp[7] from inf to 7 (using coin 1)\n",
      "  Updating dp[8] from inf to 8 (using coin 1)\n",
      "  Updating dp[9] from inf to 9 (using coin 1)\n",
      "  Updating dp[10] from inf to 10 (using coin 1)\n",
      "  Updating dp[11] from inf to 11 (using coin 1)\n",
      "  dp after this coin: ['0', '1', '2', '3', '4', '5', '6', '7', '8', '9', '10', '11']\n",
      "\n",
      "-- Processing coin: 2 --\n",
      "  Updating dp[2] from 2 to 1 (using coin 2)\n",
      "  Updating dp[3] from 3 to 2 (using coin 2)\n",
      "  Updating dp[4] from 4 to 2 (using coin 2)\n",
      "  Updating dp[5] from 5 to 3 (using coin 2)\n",
      "  Updating dp[6] from 6 to 3 (using coin 2)\n",
      "  Updating dp[7] from 7 to 4 (using coin 2)\n",
      "  Updating dp[8] from 8 to 4 (using coin 2)\n",
      "  Updating dp[9] from 9 to 5 (using coin 2)\n",
      "  Updating dp[10] from 10 to 5 (using coin 2)\n",
      "  Updating dp[11] from 11 to 6 (using coin 2)\n",
      "  dp after this coin: ['0', '1', '1', '2', '2', '3', '3', '4', '4', '5', '5', '6']\n",
      "\n",
      "-- Processing coin: 5 --\n",
      "  Updating dp[5] from 3 to 1 (using coin 5)\n",
      "  Updating dp[6] from 3 to 2 (using coin 5)\n",
      "  Updating dp[7] from 4 to 2 (using coin 5)\n",
      "  Updating dp[8] from 4 to 3 (using coin 5)\n",
      "  Updating dp[9] from 5 to 3 (using coin 5)\n",
      "  Updating dp[10] from 5 to 2 (using coin 5)\n",
      "  Updating dp[11] from 6 to 3 (using coin 5)\n",
      "  dp after this coin: ['0', '1', '1', '2', '2', '1', '2', '2', '3', '3', '2', '3']\n",
      "\n",
      "Minimum coins to make 11 = 3\n"
     ]
    },
    {
     "data": {
      "text/plain": [
       "3"
      ]
     },
     "execution_count": 6,
     "metadata": {},
     "output_type": "execute_result"
    }
   ],
   "source": [
    "from math import inf\n",
    "from typing import List\n",
    "\n",
    "def coinChange_verbose(coins: List[int], amount: int, max_items_to_show: int = 20) -> int:\n",
    "    \"\"\"\n",
    "    Verbose version of LeetCode 322: Coin Change.\n",
    "    Prints state of dp array after processing each coin.\n",
    "    \"\"\"\n",
    "    print(\"=== Coin Change (Minimum Coins) — Verbose Trace ===\")\n",
    "    print(f\"Coins: {coins}, Target amount: {amount}\")\n",
    "\n",
    "    dp = [inf] * (amount + 1)\n",
    "    dp[0] = 0\n",
    "    print(f\"Initial dp: {[0] + [inf]*amount}\")\n",
    "\n",
    "    for coin in coins:\n",
    "        print(f\"\\n-- Processing coin: {coin} --\")\n",
    "        for x in range(coin, amount + 1):\n",
    "            new_val = min(dp[x], dp[x - coin] + 1)\n",
    "            if new_val != dp[x]:\n",
    "                print(f\"  Updating dp[{x}] from {dp[x]} to {new_val} (using coin {coin})\")\n",
    "                dp[x] = new_val\n",
    "\n",
    "        # Print summary of dp after processing this coin\n",
    "        snapshot = [f\"{v if v != inf else '∞'}\" for v in dp]\n",
    "        if len(snapshot) > max_items_to_show:\n",
    "            half = max_items_to_show // 2\n",
    "            summary = snapshot[:half] + [\"…\"] + snapshot[-half:]\n",
    "            print(\"  dp after this coin:\", summary, f\"(len={len(snapshot)})\")\n",
    "        else:\n",
    "            print(\"  dp after this coin:\", snapshot)\n",
    "\n",
    "    result = dp[amount]\n",
    "    if result == inf:\n",
    "        print(f\"\\nNo solution possible -> Answer = -1\")\n",
    "        return -1\n",
    "    else:\n",
    "        print(f\"\\nMinimum coins to make {amount} = {result}\")\n",
    "        return result\n",
    "\n",
    "coinChange_verbose([1, 2, 5], 11)\n"
   ]
  },
  {
   "cell_type": "markdown",
   "id": "f16e2e39",
   "metadata": {},
   "source": [
    "- **i** is an `amount`.\n",
    "\n",
    "- **dp[i]** is the `minimum number of coins` to make that amount.\n",
    "\n",
    "### More elaboration with an example\n",
    "\n",
    "```\n",
    "Before coin 5:\n",
    "i :  0  1  2  3  4   5   6   7   8   9  10  11\n",
    "dp: [0, 1, 1, 2, 2,  3,  3,  4,  4,  5,  5,  6]\n",
    "```\n",
    "\n",
    "| i  | look at dp\\[i-5] | candidate = dp\\[i-5] + 1 | old dp\\[i] | new dp\\[i] |\n",
    "| -- | ---------------- | ------------------------ | ---------- | ---------- |\n",
    "| 5  | dp\\[0] = 0       | 0 + 1 = **1**            | 3          | **1**      |\n",
    "| 6  | dp\\[1] = 1       | 1 + 1 = **2**            | 3          | **2**      |\n",
    "| 7  | dp\\[2] = 1       | 1 + 1 = **2**            | 4          | **2**      |\n",
    "| 8  | dp\\[3] = 2       | 2 + 1 = **3**            | 4          | **3**      |\n",
    "| 9  | dp\\[4] = 2       | 2 + 1 = **3**            | 5          | **3**      |\n",
    "| 10 | dp\\[5] = **1**   | 1 + 1 = **2**            | 5          | **2**      |\n",
    "| 11 | dp\\[6] = **2**   | 2 + 1 = **3**            | 6          | **3**      |\n",
    "\n",
    "\n",
    "### Shift the index by the coin; add 1 coin to the count\n",
    "```\n",
    "i :  0  1  2  3  4   5   6   7   8   9  10  11\n",
    "dp: [0, 1, 1, 2, 2,  3,  3,  4,  4,  5,  5,  6]\n",
    "```\n",
    "\n",
    "Walkthrough:\n",
    "\n",
    "\n",
    "Step 1: i = 5\n",
    "\n",
    "- Shift index by 5: look at dp[5-5] = dp[0] = 0\n",
    "\n",
    "- Add 1 coin: candidate = 0 + 1 = 1\n",
    "\n",
    "- Compare: min( old dp[5]=3 , candidate=1 ) → 1\n",
    "\n",
    "- ✅ Update: dp[5] becomes 1\n",
    "\n",
    "\n",
    "Another example:\n",
    "\n",
    "Step 7: i = 11\n",
    "\n",
    "- Shift index by 5: look at dp[11-5] = dp[6]\n",
    "\n",
    "- dp[6] was updated to 2 in Step 2\n",
    "\n",
    "- Add 1 coin: candidate = 2 + 1 = 3\n",
    "\n",
    "- Compare: min( old dp[11]=6 , candidate=3 ) → 3\n",
    "\n",
    "- ✅ Update: dp[11] becomes 3\n",
    "\n",
    ">> When processing `i = 11`, we move forward — that is, we first update `i = 6, 7, 8, ..., 10`, and then use the updated value at `i = 6` to update `i = 11`."
   ]
  }
 ],
 "metadata": {
  "kernelspec": {
   "display_name": "myenv",
   "language": "python",
   "name": "python3"
  },
  "language_info": {
   "codemirror_mode": {
    "name": "ipython",
    "version": 3
   },
   "file_extension": ".py",
   "mimetype": "text/x-python",
   "name": "python",
   "nbconvert_exporter": "python",
   "pygments_lexer": "ipython3",
   "version": "3.12.9"
  }
 },
 "nbformat": 4,
 "nbformat_minor": 5
}
