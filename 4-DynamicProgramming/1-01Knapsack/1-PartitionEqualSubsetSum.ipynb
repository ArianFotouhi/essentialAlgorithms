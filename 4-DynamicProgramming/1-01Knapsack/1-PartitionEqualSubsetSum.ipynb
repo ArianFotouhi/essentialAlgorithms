{
 "cells": [
  {
   "cell_type": "markdown",
   "id": "96dd1388",
   "metadata": {},
   "source": [
    "# 416 — Partition Equal Subset Sum"
   ]
  },
  {
   "cell_type": "markdown",
   "id": "23dc3bce",
   "metadata": {},
   "source": [
    "Given an integer array nums, return true if you can partition the array into two subsets such that the sum of the elements in both subsets is equal or false otherwise.\n",
    "\n",
    "\n",
    "### Example 1:\n",
    "\n",
    "- Input: **nums = [1,5,11,5]**\n",
    "- Output: true\n",
    "- Explanation: The array can be partitioned as [1, 5, 5] and [11].\n",
    "\n",
    "### Example 2:\n",
    "\n",
    "- Input: **nums = [1,2,3,5]**\n",
    "- Output: false\n",
    "- Explanation: The array cannot be partitioned into equal sum subsets.\n"
   ]
  },
  {
   "cell_type": "markdown",
   "id": "1e990d56",
   "metadata": {},
   "source": [
    "# Base Version"
   ]
  },
  {
   "cell_type": "code",
   "execution_count": 4,
   "id": "76a7bf68",
   "metadata": {},
   "outputs": [
    {
     "data": {
      "text/plain": [
       "True"
      ]
     },
     "execution_count": 4,
     "metadata": {},
     "output_type": "execute_result"
    }
   ],
   "source": [
    "from typing import List\n",
    "\n",
    "def canPartition(nums: List[int]) -> bool:\n",
    "    total = sum(nums)\n",
    "    if total % 2:\n",
    "        return False\n",
    "    target = total // 2\n",
    "\n",
    "    dp = [False] * (target + 1)\n",
    "    dp[0] = True\n",
    "\n",
    "    for x in nums:\n",
    "        for s in range(target, x - 1, -1):\n",
    "            if dp[s - x]:\n",
    "                dp[s] = True\n",
    "        if dp[target]:\n",
    "            return True\n",
    "\n",
    "    return dp[target]\n",
    "\n",
    "canPartition([1, 5, 11, 5])"
   ]
  },
  {
   "cell_type": "markdown",
   "id": "db662647",
   "metadata": {},
   "source": [
    "# Verbose Version"
   ]
  },
  {
   "cell_type": "code",
   "execution_count": 5,
   "id": "fed71811",
   "metadata": {},
   "outputs": [
    {
     "name": "stdout",
     "output_type": "stream",
     "text": [
      "\n",
      "Example 1:\n",
      "=== Partition Equal Subset Sum — Verbose Trace ===\n",
      "Input nums: [1, 5, 11, 5]\n",
      "Total sum = 22\n",
      "Target subset sum = total//2 = 11\n",
      "Max element = 11\n",
      "Initial DP:\n",
      "    reachable sums: [0]\n",
      "\n",
      "-- Item 0 | value = 1 --\n",
      "  Newly reachable sums with this item: [1]\n",
      "  DP after this item:\n",
      "    reachable sums: [0, 1]\n",
      "\n",
      "-- Item 1 | value = 5 --\n",
      "  Newly reachable sums with this item: [5, 6]\n",
      "  DP after this item:\n",
      "    reachable sums: [0, 1, 5, 6]\n",
      "\n",
      "-- Item 2 | value = 11 --\n",
      "  Newly reachable sums with this item: [11]\n",
      "  DP after this item:\n",
      "    reachable sums: [0, 1, 5, 6, 11]\n",
      "Target 11 reached. Early exit -> Answer: True\n"
     ]
    }
   ],
   "source": [
    "from typing import List, Iterable\n",
    "\n",
    "def _summarize_list(vals: Iterable[int], max_items: int = 30) -> str:\n",
    "    \"\"\"Pretty-print a (possibly long) iterable of ints.\"\"\"\n",
    "    vals = list(vals)\n",
    "    n = len(vals)\n",
    "    if n <= max_items:\n",
    "        return str(vals)\n",
    "    half = max_items // 2\n",
    "    head = \", \".join(map(str, vals[:half]))\n",
    "    tail = \", \".join(map(str, vals[-half:]))\n",
    "    return f\"[{head}, …, {tail}] (total {n})\"\n",
    "\n",
    "def _print_dp_snapshot(dp: List[bool], target: int, max_items: int = 30) -> None:\n",
    "    \"\"\"Show which sums are reachable so far (with truncation on large cases).\"\"\"\n",
    "    sums = [i for i, ok in enumerate(dp) if ok]\n",
    "    print(\"    reachable sums:\", _summarize_list(sums, max_items))\n",
    "\n",
    "def canPartition_verbose(nums: List[int], *, max_items_to_show: int = 30) -> bool:\n",
    "    \"\"\"\n",
    "    Verbose solver for LeetCode 416 (0/1 subset sum to target = total//2).\n",
    "    Prints the DP state changes after processing each item.\n",
    "\n",
    "    Args:\n",
    "        nums: list of positive ints.\n",
    "        max_items_to_show: how many entries to show in summaries (to avoid huge logs).\n",
    "\n",
    "    Returns:\n",
    "        bool: True if a partition exists, else False.\n",
    "    \"\"\"\n",
    "    print(\"=== Partition Equal Subset Sum — Verbose Trace ===\")\n",
    "    print(f\"Input nums: {nums}\")\n",
    "\n",
    "    total = sum(nums)\n",
    "    print(f\"Total sum = {total}\")\n",
    "\n",
    "    if total % 2 == 1:\n",
    "        print(\"Total is odd -> cannot be split into two equal subsets. Answer: False\")\n",
    "        return False\n",
    "\n",
    "    target = total // 2\n",
    "    print(f\"Target subset sum = total//2 = {target}\")\n",
    "\n",
    "    # Quick pruning: if any number exceeds target, impossible.\n",
    "    mx = max(nums) if nums else 0\n",
    "    print(f\"Max element = {mx}\")\n",
    "    if mx > target:\n",
    "        print(f\"An element ({mx}) > target ({target}) -> Answer: False\")\n",
    "        return False\n",
    "\n",
    "    # dp[s] == True  <=>  some subset achieves sum s\n",
    "    dp = [False] * (target + 1)\n",
    "    dp[0] = True\n",
    "    print(\"Initial DP:\")\n",
    "    _print_dp_snapshot(dp, target, max_items_to_show)\n",
    "\n",
    "    # Iterate items (0/1 choice) and update sums backwards\n",
    "    for idx, x in enumerate(nums):\n",
    "        print(f\"\\n-- Item {idx} | value = {x} --\")\n",
    "        changed = []   # which sums newly became reachable due to x\n",
    "        # Backward loop enforces 0/1 usage (no reuse of same item)\n",
    "        for s in range(target, x - 1, -1):\n",
    "            if dp[s - x] and not dp[s]:\n",
    "                dp[s] = True\n",
    "                changed.append(s)\n",
    "\n",
    "        if changed:\n",
    "            print(\"  Newly reachable sums with this item:\",\n",
    "                  _summarize_list(sorted(changed), max_items_to_show))\n",
    "        else:\n",
    "            print(\"  No new sums became reachable with this item.\")\n",
    "\n",
    "        # Show current snapshot (truncated if large)\n",
    "        print(\"  DP after this item:\")\n",
    "        _print_dp_snapshot(dp, target, max_items_to_show)\n",
    "\n",
    "        if dp[target]:\n",
    "            print(f\"Target {target} reached. Early exit -> Answer: True\")\n",
    "            return True\n",
    "\n",
    "    ans = dp[target]\n",
    "    print(f\"\\nFinished processing all items. Answer: {ans}\")\n",
    "    return ans\n",
    "\n",
    "\n",
    "# --- Example runs (you can comment these out on LeetCode) ---\n",
    "\n",
    "if __name__ == \"__main__\":\n",
    "    print(\"\\nExample 1:\")\n",
    "    canPartition_verbose([1, 5, 11, 5], max_items_to_show=20)\n",
    "\n",
    "    # print(\"\\nExample 2:\")\n",
    "    # canPartition_verbose([1, 2, 3, 5], max_items_to_show=20)\n"
   ]
  },
  {
   "cell_type": "markdown",
   "id": "a319a8a6",
   "metadata": {},
   "source": [
    "# What dp[s] Actually Means\n",
    "\n",
    "- dp[s] == True means:\n",
    "\n",
    "\"Using some subset of the numbers we’ve seen so far, we can make sum s.\"\n",
    "\n",
    "---\n",
    "\n",
    "- So after processing all numbers, if dp[11] is True, it literally means:\n",
    "\n",
    "\"There exists a subset of nums whose sum = 11.\"\n",
    "\n",
    "---\n",
    "\n",
    "And that’s exactly what we want — a subset summing to half of total (11 in this case).\n",
    "\n",
    "If one subset sums to 11, the rest of the numbers automatically sum to total - 11 = 11.\n",
    "So we successfully split the array into two equal parts."
   ]
  }
 ],
 "metadata": {
  "kernelspec": {
   "display_name": "myenv",
   "language": "python",
   "name": "python3"
  },
  "language_info": {
   "codemirror_mode": {
    "name": "ipython",
    "version": 3
   },
   "file_extension": ".py",
   "mimetype": "text/x-python",
   "name": "python",
   "nbconvert_exporter": "python",
   "pygments_lexer": "ipython3",
   "version": "3.12.9"
  }
 },
 "nbformat": 4,
 "nbformat_minor": 5
}
