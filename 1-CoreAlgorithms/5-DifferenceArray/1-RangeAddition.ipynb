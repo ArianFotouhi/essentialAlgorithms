{
 "cells": [
  {
   "cell_type": "markdown",
   "id": "265b76ff",
   "metadata": {},
   "source": [
    "## 🔧 Range Addition (LeetCode 370) — Summary\n",
    "\n",
    "Given a `length` and `updates = [[start, end, inc], ...]`, start with a zero array of size `length`.  \n",
    "Use a **difference array** to apply each range update in O(1): `D[start] += inc`, `D[end+1] -= inc`.  \n",
    "After all updates, compute the **prefix sum** of the difference array to get the final result.  \n",
    "This avoids repeatedly updating ranges and gives an efficient O(n + k) solution.\n",
    "\n",
    "### 📥 Input:\n",
    "```python\n",
    "length = 5  \n",
    "updates = [\n",
    "  [1, 3, 2],\n",
    "  [2, 4, 3],\n",
    "  [0, 2, -2]\n",
    "]\n",
    "```\n",
    "📤 Output:\n",
    "\n",
    "```python\n",
    "[-2, 0, 3, 5, 3]\n",
    "```"
   ]
  },
  {
   "cell_type": "code",
   "execution_count": 1,
   "id": "86b74910",
   "metadata": {},
   "outputs": [],
   "source": [
    "from typing import List\n",
    "\n",
    "def range_addition(length: int, updates: List[List[int]]) -> List[int]:\n",
    "    D = [0] * (length + 1)  # Difference array with extra space\n",
    "    print(\"Initial D:\", D)\n",
    "\n",
    "    # Apply all updates\n",
    "    for l, r, inc in updates:\n",
    "        D[l] += inc\n",
    "        if r + 1 <= length - 1:\n",
    "            D[r + 1] -= inc\n",
    "        print(f\"After update [{l},{r},{inc}] => D: {D}\")\n",
    "\n",
    "    # Compute final result using prefix sum\n",
    "    res = [0] * length\n",
    "    running = 0\n",
    "    for i in range(length):\n",
    "        running += D[i]\n",
    "        res[i] = running\n",
    "        print(f\"res[{i}] = {res[i]} (running total = {running})\")\n",
    "\n",
    "    return res"
   ]
  },
  {
   "cell_type": "code",
   "execution_count": null,
   "id": "479c5801",
   "metadata": {},
   "outputs": [
    {
     "name": "stdout",
     "output_type": "stream",
     "text": [
      "Initial D: [0, 0, 0, 0, 0, 0]\n",
      "After update [1,3,2] => D: [0, 2, 0, 0, -2, 0]\n",
      "After update [2,4,3] => D: [0, 2, 3, 0, -2, 0]\n",
      "After update [0,2,-2] => D: [-2, 2, 3, 2, -2, 0]\n",
      "res[0] = -2 (running total = -2)\n",
      "res[1] = 0 (running total = 0)\n",
      "res[2] = 3 (running total = 3)\n",
      "res[3] = 5 (running total = 5)\n",
      "res[4] = 3 (running total = 3)\n"
     ]
    },
    {
     "data": {
      "text/plain": [
       "[-2, 0, 3, 5, 3]"
      ]
     },
     "execution_count": 2,
     "metadata": {},
     "output_type": "execute_result"
    }
   ],
   "source": [
    "inputs = [[1, 3, 2], [2, 4, 3], [0, 2, -2]]\n",
    "print('inputs:', inputs)\n",
    "\n",
    "range_addition(5, inputs)"
   ]
  }
 ],
 "metadata": {
  "kernelspec": {
   "display_name": "base",
   "language": "python",
   "name": "python3"
  },
  "language_info": {
   "codemirror_mode": {
    "name": "ipython",
    "version": 3
   },
   "file_extension": ".py",
   "mimetype": "text/x-python",
   "name": "python",
   "nbconvert_exporter": "python",
   "pygments_lexer": "ipython3",
   "version": "3.12.7"
  }
 },
 "nbformat": 4,
 "nbformat_minor": 5
}
