{
 "cells": [
  {
   "cell_type": "markdown",
   "id": "418c96c6",
   "metadata": {},
   "source": [
    "# Remove Duplicates from Sorted Array\n",
    "Given nums = [1, 1, 2, 2, 3], remove duplicates in-place."
   ]
  },
  {
   "cell_type": "code",
   "execution_count": 1,
   "id": "45cc6b82",
   "metadata": {},
   "outputs": [],
   "source": [
    "nums = [1, 1, 2, 2, 3]"
   ]
  },
  {
   "cell_type": "code",
   "execution_count": 4,
   "id": "4fbee887",
   "metadata": {},
   "outputs": [],
   "source": [
    "def removeDuplicates(nums):\n",
    "    if not nums:\n",
    "        return 0\n",
    "\n",
    "    slow = 0\n",
    "    for fast in range(1, len(nums)):\n",
    "        print(f\"Comparing: nums[fast] = {nums[fast]}, nums[slow] = {nums[slow]}\")\n",
    "        if nums[fast] != nums[slow]:\n",
    "            slow += 1\n",
    "            nums[slow] = nums[fast]\n",
    "            print(f\"Updated nums[{slow}] = {nums[slow]}\")\n",
    "\n",
    "    return slow + 1"
   ]
  },
  {
   "cell_type": "code",
   "execution_count": 6,
   "id": "e08e2089",
   "metadata": {},
   "outputs": [
    {
     "name": "stdout",
     "output_type": "stream",
     "text": [
      "Comparing: nums[fast] = 1, nums[slow] = 1\n",
      "Comparing: nums[fast] = 2, nums[slow] = 1\n",
      "Updated nums[1] = 2\n",
      "Comparing: nums[fast] = 2, nums[slow] = 2\n",
      "Comparing: nums[fast] = 3, nums[slow] = 2\n",
      "Updated nums[2] = 3\n",
      "Length: 3\n",
      "Modified array: [1, 2, 3]\n"
     ]
    }
   ],
   "source": [
    "nums = [1, 1, 2, 2, 3]\n",
    "length = removeDuplicates(nums)\n",
    "print(\"Length:\", length)\n",
    "print(\"Modified array:\", nums[:length])\n"
   ]
  }
 ],
 "metadata": {
  "kernelspec": {
   "display_name": "base",
   "language": "python",
   "name": "python3"
  },
  "language_info": {
   "codemirror_mode": {
    "name": "ipython",
    "version": 3
   },
   "file_extension": ".py",
   "mimetype": "text/x-python",
   "name": "python",
   "nbconvert_exporter": "python",
   "pygments_lexer": "ipython3",
   "version": "3.12.7"
  }
 },
 "nbformat": 4,
 "nbformat_minor": 5
}
