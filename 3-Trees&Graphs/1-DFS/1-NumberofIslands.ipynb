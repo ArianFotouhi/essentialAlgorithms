{
 "cells": [
  {
   "cell_type": "markdown",
   "id": "1354db7d",
   "metadata": {},
   "source": [
    "# Number of Islands\n",
    "\n",
    "Given an **m x n** 2D binary grid grid which represents a map of '1's (land) and '0's (water), return the number of islands.\n",
    "\n",
    "An island is surrounded by water and is formed by connecting adjacent lands horizontally or vertically. You may assume all four edges of the grid are all surrounded by water.\n",
    "\n",
    " \n",
    "\n",
    "**Example 1:**\n",
    "```\n",
    "Input: grid = [\n",
    "  [\"1\",\"1\",\"1\",\"1\",\"0\"],\n",
    "  [\"1\",\"1\",\"0\",\"1\",\"0\"],\n",
    "  [\"1\",\"1\",\"0\",\"0\",\"0\"],\n",
    "  [\"0\",\"0\",\"0\",\"0\",\"0\"]\n",
    "]\n",
    "```\n",
    "**Output: 1**\n",
    "\n",
    "**Example 2:**\n",
    "```\n",
    "Input: grid = [\n",
    "  [\"1\",\"1\",\"0\",\"0\",\"0\"],\n",
    "  [\"1\",\"1\",\"0\",\"0\",\"0\"],\n",
    "  [\"0\",\"0\",\"1\",\"0\",\"0\"],\n",
    "  [\"0\",\"0\",\"0\",\"1\",\"1\"]\n",
    "]\n",
    "```\n",
    "**Output: 3**"
   ]
  },
  {
   "cell_type": "markdown",
   "id": "717b9346",
   "metadata": {},
   "source": [
    "# Base Code"
   ]
  },
  {
   "cell_type": "code",
   "execution_count": 3,
   "id": "122637f7",
   "metadata": {},
   "outputs": [
    {
     "data": {
      "text/plain": [
       "3"
      ]
     },
     "execution_count": 3,
     "metadata": {},
     "output_type": "execute_result"
    }
   ],
   "source": [
    "from typing import List\n",
    "\n",
    "def numIslands(grid: List[List[str]]) -> int:\n",
    "    if not grid or not grid[0]:\n",
    "        return 0\n",
    "\n",
    "    R, C = len(grid), len(grid[0])\n",
    "\n",
    "    def dfs(r: int, c: int) -> None:\n",
    "        if r < 0 or r >= R or c < 0 or c >= C or grid[r][c] != '1':\n",
    "            return\n",
    "        grid[r][c] = '0'\n",
    "        dfs(r + 1, c)\n",
    "        dfs(r - 1, c)\n",
    "        dfs(r, c + 1)\n",
    "        dfs(r, c - 1)\n",
    "\n",
    "    islands = 0\n",
    "    for r in range(R):\n",
    "        for c in range(C):\n",
    "            if grid[r][c] == '1':\n",
    "                islands += 1\n",
    "                dfs(r, c)\n",
    "    return islands\n",
    "g = [\n",
    "    [\"1\",\"1\",\"0\",\"0\",\"0\"],\n",
    "    [\"1\",\"1\",\"0\",\"0\",\"0\"],\n",
    "    [\"0\",\"0\",\"1\",\"0\",\"0\"],\n",
    "    [\"0\",\"0\",\"0\",\"1\",\"1\"]\n",
    "]\n",
    "numIslands(g)"
   ]
  },
  {
   "cell_type": "markdown",
   "id": "4e319e18",
   "metadata": {},
   "source": [
    "# Versbose Printing "
   ]
  },
  {
   "cell_type": "code",
   "execution_count": 4,
   "id": "11c351de",
   "metadata": {},
   "outputs": [
    {
     "name": "stdout",
     "output_type": "stream",
     "text": [
      "\n",
      "=== Start island 1 at (0,0) ===\n",
      "[step 1] pop (0, 0) | stack_size(before)=0\n",
      "  visit (0, 0) -> mark as '0' (visited)\n",
      "    push (1, 0) (neighbor is '1') | stack_size(after)=1\n",
      "    push (0, 1) (neighbor is '1') | stack_size(after)=2\n",
      "[step 2] pop (0, 1) | stack_size(before)=1\n",
      "  visit (0, 1) -> mark as '0' (visited)\n",
      "    push (1, 1) (neighbor is '1') | stack_size(after)=2\n",
      "[step 3] pop (1, 1) | stack_size(before)=1\n",
      "  visit (1, 1) -> mark as '0' (visited)\n",
      "    push (1, 0) (neighbor is '1') | stack_size(after)=2\n",
      "[step 4] pop (1, 0) | stack_size(before)=1\n",
      "  visit (1, 0) -> mark as '0' (visited)\n",
      "[step 5] pop (1, 0) | stack_size(before)=0\n",
      "  skip (1, 0): value='0' (already visited or water)\n",
      "=== Finished island 1 ===\n",
      "\n",
      "=== Start island 2 at (2,2) ===\n",
      "[step 6] pop (2, 2) | stack_size(before)=0\n",
      "  visit (2, 2) -> mark as '0' (visited)\n",
      "=== Finished island 2 ===\n",
      "\n",
      "=== Start island 3 at (3,3) ===\n",
      "[step 7] pop (3, 3) | stack_size(before)=0\n",
      "  visit (3, 3) -> mark as '0' (visited)\n",
      "    push (3, 4) (neighbor is '1') | stack_size(after)=1\n",
      "[step 8] pop (3, 4) | stack_size(before)=0\n",
      "  visit (3, 4) -> mark as '0' (visited)\n",
      "=== Finished island 3 ===\n",
      "\n",
      "Total islands: 3\n"
     ]
    },
    {
     "data": {
      "text/plain": [
       "3"
      ]
     },
     "execution_count": 4,
     "metadata": {},
     "output_type": "execute_result"
    }
   ],
   "source": [
    "def numIslands_verbose(grid):\n",
    "    \"\"\"\n",
    "    Verbose DFS (iterative) for Number of Islands.\n",
    "    Prints: island starts, each stack pop, skips, visit/mark, neighbor pushes, totals.\n",
    "    NOTE: This function mutates the input grid (flips visited '1' -> '0').\n",
    "    \"\"\"\n",
    "    if not grid or not grid[0]:\n",
    "        print(\"Empty grid.\")\n",
    "        return 0\n",
    "\n",
    "    # Dimensions\n",
    "    R, C = len(grid), len(grid[0])\n",
    "    # Directions: down, up, right, left\n",
    "    DIRS = [(1,0), (-1,0), (0,1), (0,-1)]\n",
    "\n",
    "    islands = 0\n",
    "    step = 0  # counts DFS loop iterations across all islands\n",
    "\n",
    "    for r in range(R):\n",
    "        for c in range(C):\n",
    "            if grid[r][c] == '1':\n",
    "                islands += 1\n",
    "                print(f\"\\n=== Start island {islands} at ({r},{c}) ===\")\n",
    "                stack = [(r, c)]\n",
    "\n",
    "                while stack:\n",
    "                    # Pop\n",
    "                    step += 1\n",
    "                    x, y = stack.pop()\n",
    "                    print(f\"[step {step}] pop {(x, y)} | stack_size(before)={len(stack)}\")\n",
    "\n",
    "                    # Bounds check\n",
    "                    if x < 0 or x >= R or y < 0 or y >= C:\n",
    "                        print(f\"  skip {(x, y)}: out of bounds\")\n",
    "                        continue\n",
    "\n",
    "                    # Already water or visited?\n",
    "                    if grid[x][y] != '1':\n",
    "                        print(f\"  skip {(x, y)}: value={grid[x][y]!r} (already visited or water)\")\n",
    "                        continue\n",
    "\n",
    "                    # Visit & mark\n",
    "                    grid[x][y] = '0'\n",
    "                    print(f\"  visit {(x, y)} -> mark as '0' (visited)\")\n",
    "\n",
    "                    # Explore neighbors: only push neighbors that are in-bounds and land ('1')\n",
    "                    for dx, dy in DIRS:\n",
    "                        nx, ny = x + dx, y + dy\n",
    "                        if 0 <= nx < R and 0 <= ny < C and grid[nx][ny] == '1':\n",
    "                            stack.append((nx, ny))\n",
    "                            print(f\"    push {(nx, ny)} (neighbor is '1') | stack_size(after)={len(stack)}\")\n",
    "                print(f\"=== Finished island {islands} ===\")\n",
    "\n",
    "    print(f\"\\nTotal islands: {islands}\")\n",
    "    return islands\n",
    "\n",
    "g = [\n",
    "    [\"1\",\"1\",\"0\",\"0\",\"0\"],\n",
    "    [\"1\",\"1\",\"0\",\"0\",\"0\"],\n",
    "    [\"0\",\"0\",\"1\",\"0\",\"0\"],\n",
    "    [\"0\",\"0\",\"0\",\"1\",\"1\"]\n",
    "]\n",
    "numIslands_verbose(g)\n"
   ]
  }
 ],
 "metadata": {
  "kernelspec": {
   "display_name": "myenv",
   "language": "python",
   "name": "python3"
  },
  "language_info": {
   "codemirror_mode": {
    "name": "ipython",
    "version": 3
   },
   "file_extension": ".py",
   "mimetype": "text/x-python",
   "name": "python",
   "nbconvert_exporter": "python",
   "pygments_lexer": "ipython3",
   "version": "3.12.9"
  }
 },
 "nbformat": 4,
 "nbformat_minor": 5
}
