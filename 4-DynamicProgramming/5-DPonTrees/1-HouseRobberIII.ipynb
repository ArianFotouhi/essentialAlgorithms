{
 "cells": [
  {
   "cell_type": "markdown",
   "id": "e3581829",
   "metadata": {},
   "source": [
    "# 337 - House Robber III\n",
    "\n",
    "\n",
    "The thief has found himself a new place for his thievery again. There is only one entrance to this area, called root.\n",
    "\n",
    "Besides the root, each house has one and only one parent house. After a tour, the smart thief realized that all houses in this place form a binary tree. It will automatically **contact the police** if **two directly-linked houses were broken into** on the same night.\n",
    "\n",
    "Given the root of the binary tree, return the maximum amount of money the thief can rob **without alerting the police**.\n",
    "\n",
    "# Example 1:\n",
    "```\n",
    "        3\n",
    "       / \\\n",
    "      2   3\n",
    "       \\    \\\n",
    "        3    1\n",
    "```\n",
    "- Input: root = [3,2,3,null,3,null,1]\n",
    "- Output: 7\n",
    "- Explanation: Maximum amount of money the thief can rob = 3 + 3 + 1 = 7. Option two was 2 + 3 = 5 (no parent and its child taking is permitted, only parent and grandson or children only).\n",
    "\n",
    "# Example 2:\n",
    "```\n",
    "        3\n",
    "       / \\\n",
    "      4   5\n",
    "     / \\    \\\n",
    "    1   3    1\n",
    "```\n",
    "- Input: root = [3,4,5,1,3,null,1]\n",
    "- Output: 9\n",
    "- Explanation: Maximum amount of money the thief can rob = 4 + 5 = 9. \n",
    "- Other options were, you take root = 3, the valid set would be: 3 + 1 + 3 + 1 = 8. Also, why not 3 + 4 + 3 = 10?\n",
    "\n",
    "Example of not permitted option: root(3) + left(4) + left-right(3).\n",
    "\n",
    "But that’s illegal because you can’t rob a node and its child."
   ]
  },
  {
   "cell_type": "code",
   "execution_count": 2,
   "id": "9b8c5161",
   "metadata": {},
   "outputs": [],
   "source": [
    "class TreeNode:\n",
    "    def __init__(self, val=0, left=None, right=None):\n",
    "        self.val, self.left, self.right = val, left, right\n",
    "\n",
    "def build_tree(level):\n",
    "    if not level: return None\n",
    "    nodes = [None if v is None else TreeNode(v) for v in level]\n",
    "    i, j = 0, 1\n",
    "    while j < len(nodes):\n",
    "        if nodes[i]:\n",
    "            nodes[i].left  = nodes[j] if j < len(nodes) else None; j += 1\n",
    "            nodes[i].right = nodes[j] if j < len(nodes) else None; j += 1\n",
    "        i += 1\n",
    "    return nodes[0]"
   ]
  },
  {
   "cell_type": "markdown",
   "id": "0abbf627",
   "metadata": {},
   "source": [
    "# Base Version"
   ]
  },
  {
   "cell_type": "code",
   "execution_count": null,
   "id": "fa8a4753",
   "metadata": {},
   "outputs": [
    {
     "name": "stdout",
     "output_type": "stream",
     "text": [
      "9\n"
     ]
    }
   ],
   "source": [
    "def rob(root):\n",
    "    def dfs(node):\n",
    "        if not node: return (0, 0)  # (take, skip)\n",
    "        lt, ls = dfs(node.left)\n",
    "        rt, rs = dfs(node.right)\n",
    "        take = node.val + ls + rs\n",
    "        skip = max(lt, ls) + max(rt, rs)\n",
    "        return (take, skip)\n",
    "    return max(dfs(root))\n",
    "\n",
    "\n",
    "root = build_tree([3, 4, 5, 1, 3, None, 1])\n",
    "print(rob(root))"
   ]
  },
  {
   "cell_type": "markdown",
   "id": "f50e8167",
   "metadata": {},
   "source": [
    "# Verbose Version"
   ]
  },
  {
   "cell_type": "code",
   "execution_count": 5,
   "id": "d15ddb03",
   "metadata": {},
   "outputs": [
    {
     "name": "stdout",
     "output_type": "stream",
     "text": [
      "➡️ Enter Node(3)\n",
      "  ➡️ Enter Node(4)\n",
      "    ➡️ Enter Node(1)\n",
      "      Reached None → return (take=0, skip=0)\n",
      "      Reached None → return (take=0, skip=0)\n",
      "    ⬅️ Exit Node(1)\n",
      "        Left child:  (take=0, skip=0)\n",
      "        Right child: (take=0, skip=0)\n",
      "        Computed:   (take=1, skip=0)\n",
      "\n",
      "    ➡️ Enter Node(3)\n",
      "      Reached None → return (take=0, skip=0)\n",
      "      Reached None → return (take=0, skip=0)\n",
      "    ⬅️ Exit Node(3)\n",
      "        Left child:  (take=0, skip=0)\n",
      "        Right child: (take=0, skip=0)\n",
      "        Computed:   (take=3, skip=0)\n",
      "\n",
      "  ⬅️ Exit Node(4)\n",
      "      Left child:  (take=1, skip=0)\n",
      "      Right child: (take=3, skip=0)\n",
      "      Computed:   (take=4, skip=4)\n",
      "\n",
      "  ➡️ Enter Node(5)\n",
      "    Reached None → return (take=0, skip=0)\n",
      "    ➡️ Enter Node(1)\n",
      "      Reached None → return (take=0, skip=0)\n",
      "      Reached None → return (take=0, skip=0)\n",
      "    ⬅️ Exit Node(1)\n",
      "        Left child:  (take=0, skip=0)\n",
      "        Right child: (take=0, skip=0)\n",
      "        Computed:   (take=1, skip=0)\n",
      "\n",
      "  ⬅️ Exit Node(5)\n",
      "      Left child:  (take=0, skip=0)\n",
      "      Right child: (take=1, skip=0)\n",
      "      Computed:   (take=5, skip=1)\n",
      "\n",
      "⬅️ Exit Node(3)\n",
      "    Left child:  (take=4, skip=4)\n",
      "    Right child: (take=5, skip=1)\n",
      "    Computed:   (take=8, skip=9)\n",
      "\n",
      "✅ Final Answer = 9\n"
     ]
    },
    {
     "data": {
      "text/plain": [
       "9"
      ]
     },
     "execution_count": 5,
     "metadata": {},
     "output_type": "execute_result"
    }
   ],
   "source": [
    "def rob(root):\n",
    "    def dfs(node, depth=0):\n",
    "        indent = \"  \" * depth\n",
    "        if not node:\n",
    "            print(f\"{indent}Reached None → return (take=0, skip=0)\")\n",
    "            return (0, 0)\n",
    "\n",
    "        print(f\"{indent}➡️ Enter Node({node.val})\")\n",
    "\n",
    "        # Recurse on children\n",
    "        lt, ls = dfs(node.left, depth + 1)\n",
    "        rt, rs = dfs(node.right, depth + 1)\n",
    "\n",
    "        # Compute take / skip\n",
    "        take = node.val + ls + rs\n",
    "        skip = max(lt, ls) + max(rt, rs)\n",
    "\n",
    "        print(f\"{indent}⬅️ Exit Node({node.val})\")\n",
    "        print(f\"{indent}    Left child:  (take={lt}, skip={ls})\")\n",
    "        print(f\"{indent}    Right child: (take={rt}, skip={rs})\")\n",
    "        print(f\"{indent}    Computed:   (take={take}, skip={skip})\\n\")\n",
    "\n",
    "        return (take, skip)\n",
    "\n",
    "    result = max(dfs(root))\n",
    "    print(f\"✅ Final Answer = {result}\")\n",
    "    return result\n",
    "\n",
    "\n",
    "# Example run\n",
    "root = build_tree([3,4,5,1,3,None,1])\n",
    "rob(root)\n"
   ]
  },
  {
   "cell_type": "markdown",
   "id": "c49b866d",
   "metadata": {},
   "source": [
    "## What do take and skip mean?\n",
    "\n",
    "`take[u]` = the maximum money we can rob from the subtree rooted at `u` if we rob this node `u` itself.\n",
    "\n",
    "- If we take u, we cannot take its children.\n",
    "\n",
    "- So:\n",
    "```\n",
    "take[u] = value[u] + skip[left_child] + skip[right_child]\n",
    "```\n",
    "\n",
    "---\n",
    "\n",
    "`skip[u]` = the maximum money we can rob from the subtree rooted at `u` if we do NOT rob this node `u`.\n",
    "\n",
    "- If we skip u, then each child can be either robbed or not, whichever gives more.\n",
    "\n",
    "- So:\n",
    "```\n",
    "skip[u] = max(take[left], skip[left]) + max(take[right], skip[right])\n",
    "```"
   ]
  }
 ],
 "metadata": {
  "kernelspec": {
   "display_name": "myenv",
   "language": "python",
   "name": "python3"
  },
  "language_info": {
   "codemirror_mode": {
    "name": "ipython",
    "version": 3
   },
   "file_extension": ".py",
   "mimetype": "text/x-python",
   "name": "python",
   "nbconvert_exporter": "python",
   "pygments_lexer": "ipython3",
   "version": "3.12.9"
  }
 },
 "nbformat": 4,
 "nbformat_minor": 5
}
