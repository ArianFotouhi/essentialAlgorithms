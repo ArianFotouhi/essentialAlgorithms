{
 "cells": [
  {
   "cell_type": "markdown",
   "id": "6a4ff402",
   "metadata": {},
   "source": [
    "# 547-Number of Provinces\n",
    "\n",
    "You’re given an **n x n** adjacency matrix isConnected, where:\n",
    "\n",
    "```\n",
    "isConnected[i][j] = 1\n",
    "```\n",
    "means city i and city j are directly connected.\n",
    "\n",
    "```\n",
    "isConnected[i][j] = 0\n",
    "```\n",
    "means they’re not directly connected.\n",
    "\n",
    "A province is a group of directly or indirectly connected cities.\n",
    ">> 👉 The task: Return the number of provinces.\n",
    "\n",
    "input\n",
    "```\n",
    "[1, 1, 0]\n",
    "[1, 1, 0]\n",
    "[0, 0, 1]\n",
    "```\n",
    "🔹 How to Read This\n",
    "\n",
    "- Each row/column corresponds to a city (0, 1, 2).\n",
    "\n",
    "- matrix[i][j] = 1 means city i and city j are directly connected.\n",
    "\n",
    "- matrix[i][j] = 0 means no direct connection.\n",
    "\n",
    ">> By default, every city has matrix[i][i] = 1 (self connection).\n",
    "\n",
    "🔹 Interpretation of This Matrix\n",
    "\n",
    "- Row 0: [1, 1, 0] → City 0 is connected to itself and city 1 (but not 2).\n",
    "\n",
    "- Row 1: [1, 1, 0] → City 1 is connected to itself and city 0 (but not 2).\n",
    "\n",
    "- Row 2: [0, 0, 1] → City 2 is only connected to itself (isolated from others).\n",
    "\n",
    "```\n",
    "   City 0 ----- City 1      City 2                                        \n",
    "```\n"
   ]
  },
  {
   "cell_type": "markdown",
   "id": "0c1d9ec6",
   "metadata": {},
   "source": [
    "# Base Version"
   ]
  },
  {
   "cell_type": "code",
   "execution_count": 4,
   "id": "dd2128cf",
   "metadata": {},
   "outputs": [
    {
     "name": "stdout",
     "output_type": "stream",
     "text": [
      "2\n"
     ]
    }
   ],
   "source": [
    "from typing import List\n",
    "\n",
    "class Solution:\n",
    "    def findCircleNum(self, isConnected: List[List[int]]) -> int:\n",
    "        n = len(isConnected)                 # number of cities\n",
    "        parent = [i for i in range(n)]       # initially, each city is its own parent (disjoint sets)\n",
    "\n",
    "        # find function: returns the root (ultimate parent) of a city\n",
    "        # with path compression (makes future queries faster)\n",
    "        def find(x):\n",
    "            if parent[x] != x:               # if x is not its own root\n",
    "                parent[x] = find(parent[x])  # recursively find root, and compress path\n",
    "            return parent[x]\n",
    "\n",
    "        # union function: merges two cities into the same group (set)\n",
    "        def union(x, y):\n",
    "            rootX, rootY = find(x), find(y)  # find roots of x and y\n",
    "            if rootX != rootY:               # if they are in different groups\n",
    "                parent[rootX] = rootY        # merge by pointing rootX → rootY\n",
    "\n",
    "        # check adjacency matrix for connections\n",
    "        for i in range(n):\n",
    "            for j in range(i + 1, n):        # only need upper triangle (matrix is symmetric)\n",
    "                if isConnected[i][j] == 1:   # if city i and j are connected\n",
    "                    union(i, j)              # merge their groups\n",
    "\n",
    "        # count unique roots (number of distinct provinces)\n",
    "        return len({find(i) for i in range(n)})\n",
    "\n",
    "\n",
    "# Example usage:\n",
    "sol = Solution()\n",
    "print(sol.findCircleNum([\n",
    "    [1,1,0],\n",
    "    [1,1,0],\n",
    "    [0,0,1]\n",
    "]))  # Expected output: 2\n"
   ]
  },
  {
   "cell_type": "markdown",
   "id": "cf88caa8",
   "metadata": {},
   "source": [
    "# Verbose Version"
   ]
  },
  {
   "cell_type": "code",
   "execution_count": 5,
   "id": "7c8fd593",
   "metadata": {},
   "outputs": [
    {
     "name": "stdout",
     "output_type": "stream",
     "text": [
      "Input matrix:\n",
      "[1, 1, 0]\n",
      "[1, 1, 0]\n",
      "[0, 0, 1]\n",
      "\n",
      "Initial parent array: [0, 1, 2] \n",
      "\n",
      "Union(0, 1): rootX = 0, rootY = 1\n",
      " -> Merged: parent[0] = 1\n",
      "Parent array now: [1, 1, 2] \n",
      "\n",
      "find(0): parent before compression = 1\n",
      "find(0): parent after compression = 1\n",
      "Final parent array: [1, 1, 2]\n",
      "Unique roots (provinces): {1, 2}\n",
      "Output (number of provinces): 2\n"
     ]
    },
    {
     "data": {
      "text/plain": [
       "2"
      ]
     },
     "execution_count": 5,
     "metadata": {},
     "output_type": "execute_result"
    }
   ],
   "source": [
    "from typing import List\n",
    "\n",
    "class Solution:\n",
    "    def findCircleNum(self, isConnected: List[List[int]]) -> int:\n",
    "        n = len(isConnected)\n",
    "        parent = [i for i in range(n)]\n",
    "\n",
    "        print(\"Input matrix:\")\n",
    "        for row in isConnected:\n",
    "            print(row)\n",
    "        print(\"\\nInitial parent array:\", parent, \"\\n\")\n",
    "\n",
    "        def find(x):\n",
    "            if parent[x] != x:\n",
    "                print(f\"find({x}): parent before compression = {parent[x]}\")\n",
    "                parent[x] = find(parent[x])  # path compression\n",
    "                print(f\"find({x}): parent after compression = {parent[x]}\")\n",
    "            return parent[x]\n",
    "\n",
    "        def union(x, y):\n",
    "            rootX, rootY = find(x), find(y)\n",
    "            print(f\"Union({x}, {y}): rootX = {rootX}, rootY = {rootY}\")\n",
    "            if rootX != rootY:\n",
    "                parent[rootX] = rootY\n",
    "                print(f\" -> Merged: parent[{rootX}] = {rootY}\")\n",
    "            else:\n",
    "                print(\" -> Already in the same set.\")\n",
    "            print(\"Parent array now:\", parent, \"\\n\")\n",
    "\n",
    "        # Process the adjacency matrix\n",
    "        for i in range(n):\n",
    "            for j in range(i + 1, n):  # upper triangle only\n",
    "                if isConnected[i][j] == 1:\n",
    "                    union(i, j)\n",
    "\n",
    "        # Count unique roots\n",
    "        roots = {find(i) for i in range(n)}\n",
    "        result = len(roots)\n",
    "\n",
    "        print(\"Final parent array:\", parent)\n",
    "        print(\"Unique roots (provinces):\", roots)\n",
    "        print(\"Output (number of provinces):\", result)\n",
    "\n",
    "        return result\n",
    "sol = Solution()\n",
    "sol.findCircleNum([[1,1,0],\n",
    "                   [1,1,0],\n",
    "                   [0,0,1]])\n",
    "\n"
   ]
  }
 ],
 "metadata": {
  "kernelspec": {
   "display_name": "myenv",
   "language": "python",
   "name": "python3"
  },
  "language_info": {
   "codemirror_mode": {
    "name": "ipython",
    "version": 3
   },
   "file_extension": ".py",
   "mimetype": "text/x-python",
   "name": "python",
   "nbconvert_exporter": "python",
   "pygments_lexer": "ipython3",
   "version": "3.12.9"
  }
 },
 "nbformat": 4,
 "nbformat_minor": 5
}
