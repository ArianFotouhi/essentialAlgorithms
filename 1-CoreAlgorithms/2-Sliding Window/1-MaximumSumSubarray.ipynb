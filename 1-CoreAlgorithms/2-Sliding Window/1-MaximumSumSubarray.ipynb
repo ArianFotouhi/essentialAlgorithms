{
 "cells": [
  {
   "cell_type": "markdown",
   "id": "842f2931",
   "metadata": {},
   "source": [
    "# Maximum Sum Subarray of Size K (Fixed-Size Window)\n",
    "Find the maximum sum of a subarray of size k."
   ]
  },
  {
   "cell_type": "code",
   "execution_count": 2,
   "id": "932dba9e",
   "metadata": {},
   "outputs": [],
   "source": [
    "def max_sum_subarray_k(nums, k):\n",
    "    max_sum = curr_sum = sum(nums[:k])  # Initial window sum\n",
    "    print(f\"Initial window: {nums[:k]} → Sum: {curr_sum}\")\n",
    "\n",
    "    for i in range(k, len(nums)):\n",
    "        # Slide the window forward:\n",
    "        # - Add the new rightmost element\n",
    "        # - Subtract the old leftmost element\n",
    "        curr_sum += nums[i] - nums[i - k]\n",
    "        max_sum = max(max_sum, curr_sum)\n",
    "\n",
    "        print(f\"Window moved: added {nums[i]}, removed {nums[i - k]} → New sum: {curr_sum}\")\n",
    "\n",
    "    print(f\"Maximum sum of any window of size {k}: {max_sum}\")\n",
    "    return max_sum\n"
   ]
  },
  {
   "cell_type": "code",
   "execution_count": null,
   "id": "5c037886",
   "metadata": {},
   "outputs": [
    {
     "name": "stdout",
     "output_type": "stream",
     "text": [
      "Initial window: [2, 1, 5] → Sum: 8\n",
      "Window moved: added 1, removed 2 → New sum: 7\n",
      "Window moved: added 3, removed 1 → New sum: 9\n",
      "Window moved: added 2, removed 5 → New sum: 6\n",
      "Maximum sum of any window of size 3: 9\n"
     ]
    },
    {
     "data": {
      "text/plain": [
       "9"
      ]
     },
     "execution_count": 4,
     "metadata": {},
     "output_type": "execute_result"
    }
   ],
   "source": [
    "max_sum_subarray_k([2, 1, 5, 1, 3, 2], 3)"
   ]
  }
 ],
 "metadata": {
  "kernelspec": {
   "display_name": "base",
   "language": "python",
   "name": "python3"
  },
  "language_info": {
   "codemirror_mode": {
    "name": "ipython",
    "version": 3
   },
   "file_extension": ".py",
   "mimetype": "text/x-python",
   "name": "python",
   "nbconvert_exporter": "python",
   "pygments_lexer": "ipython3",
   "version": "3.12.7"
  }
 },
 "nbformat": 4,
 "nbformat_minor": 5
}
