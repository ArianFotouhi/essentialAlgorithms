{
 "cells": [
  {
   "cell_type": "markdown",
   "id": "0201d8ff",
   "metadata": {},
   "source": [
    "# Range Sum Query – Immutable"
   ]
  },
  {
   "cell_type": "markdown",
   "id": "6a59937b",
   "metadata": {},
   "source": [
    "🧩 Problem Summary:\n",
    "You're given an array nums.\n",
    "\n",
    "You must support queries like:\n",
    "➤ What is the sum of elements from index left to right (inclusive)?\n",
    "\n",
    "You are expected to:\n",
    "\n",
    "Preprocess once, and\n",
    "\n",
    "Answer each query in O(1) time.\n",
    "\n"
   ]
  },
  {
   "cell_type": "code",
   "execution_count": 2,
   "id": "f140143e",
   "metadata": {},
   "outputs": [],
   "source": [
    "class NumArray:\n",
    "    def __init__(self, nums):\n",
    "        self.prefix = [0]\n",
    "        for num in nums:\n",
    "            self.prefix.append(self.prefix[-1] + num)\n",
    "\n",
    "    def sumRange(self, left, right):\n",
    "        print(f\"Calculating sum from index {left} to {right}\")\n",
    "        return self.prefix[right + 1] - self.prefix[left]"
   ]
  },
  {
   "cell_type": "code",
   "execution_count": 5,
   "id": "acab7db8",
   "metadata": {},
   "outputs": [
    {
     "name": "stdout",
     "output_type": "stream",
     "text": [
      "Calculating sum from index 0 to 5\n"
     ]
    },
    {
     "data": {
      "text/plain": [
       "-3"
      ]
     },
     "execution_count": 5,
     "metadata": {},
     "output_type": "execute_result"
    }
   ],
   "source": [
    "nums = [-2, 0, 3, -5, 2, -1]\n",
    "NumArray(nums).sumRange(0, 5) \n"
   ]
  }
 ],
 "metadata": {
  "kernelspec": {
   "display_name": "base",
   "language": "python",
   "name": "python3"
  },
  "language_info": {
   "codemirror_mode": {
    "name": "ipython",
    "version": 3
   },
   "file_extension": ".py",
   "mimetype": "text/x-python",
   "name": "python",
   "nbconvert_exporter": "python",
   "pygments_lexer": "ipython3",
   "version": "3.12.7"
  }
 },
 "nbformat": 4,
 "nbformat_minor": 5
}
