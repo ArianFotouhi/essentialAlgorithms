{
 "cells": [
  {
   "cell_type": "markdown",
   "id": "18056b68",
   "metadata": {},
   "source": [
    "# 518 – Coin Change II\n",
    "\n",
    "\n",
    "You are given an integer array coins representing coins of different denominations and an integer amount representing a total amount of money.\n",
    "\n",
    "Return the number of combinations that make up that amount. If that amount of money cannot be made up by any combination of the coins, return 0.\n",
    "\n",
    "\n",
    "## Example 1:\n",
    "\n",
    "- Input: amount = 5, coins = [1,2,5]\n",
    "- Output: 4\n",
    "- Explanation: there are four ways to make up the amount:\n",
    "5=5\n",
    "5=2+2+1\n",
    "5=2+1+1+1\n",
    "5=1+1+1+1+1\n",
    "\n",
    "## Example 2:\n",
    "\n",
    "- Input: amount = 3, coins = [2]\n",
    "- Output: 0\n",
    "- Explanation: the amount of 3 cannot be made up just with coins of 2.\n",
    "\n",
    "## Example 3:\n",
    "\n",
    "- Input: amount = 10, coins = [10]\n",
    "- Output: 1\n"
   ]
  },
  {
   "cell_type": "markdown",
   "id": "889d4de0",
   "metadata": {},
   "source": [
    "# Base Version"
   ]
  },
  {
   "cell_type": "code",
   "execution_count": 5,
   "id": "d2ddf962",
   "metadata": {},
   "outputs": [
    {
     "data": {
      "text/plain": [
       "4"
      ]
     },
     "execution_count": 5,
     "metadata": {},
     "output_type": "execute_result"
    }
   ],
   "source": [
    "def change(amount, coins):\n",
    "    dp = [0] * (amount + 1)\n",
    "    dp[0] = 1\n",
    "    for c in coins:\n",
    "        for a in range(c, amount + 1):\n",
    "            dp[a] += dp[a - c]\n",
    "    return dp[amount]\n",
    "\n",
    "change(5, [1, 2, 5])"
   ]
  },
  {
   "cell_type": "markdown",
   "id": "07cd9950",
   "metadata": {},
   "source": [
    "# Verbose Version"
   ]
  },
  {
   "cell_type": "code",
   "execution_count": 6,
   "id": "fb596a20",
   "metadata": {},
   "outputs": [
    {
     "name": "stdout",
     "output_type": "stream",
     "text": [
      "Amount = 5, Coins = [1, 2, 5]\n",
      "Init dp: [1, 0, 0, 0, 0, 0]  (dp[0]=1 because there's 1 way to make 0)\n",
      "\n",
      "Using coin[0] = 1\n",
      "  a= 1: dp[a] (before)=    0  + dp[a-1] (dp[0]=    1)  => dp[a] (after)=    1\n",
      "  a= 2: dp[a] (before)=    0  + dp[a-1] (dp[1]=    1)  => dp[a] (after)=    1\n",
      "  a= 3: dp[a] (before)=    0  + dp[a-1] (dp[2]=    1)  => dp[a] (after)=    1\n",
      "  a= 4: dp[a] (before)=    0  + dp[a-1] (dp[3]=    1)  => dp[a] (after)=    1\n",
      "  a= 5: dp[a] (before)=    0  + dp[a-1] (dp[4]=    1)  => dp[a] (after)=    1\n",
      "dp after coin 1: [1, 1, 1, 1, 1, 1]\n",
      "\n",
      "Using coin[1] = 2\n",
      "  a= 2: dp[a] (before)=    1  + dp[a-2] (dp[0]=    1)  => dp[a] (after)=    2\n",
      "  a= 3: dp[a] (before)=    1  + dp[a-2] (dp[1]=    1)  => dp[a] (after)=    2\n",
      "  a= 4: dp[a] (before)=    1  + dp[a-2] (dp[2]=    2)  => dp[a] (after)=    3\n",
      "  a= 5: dp[a] (before)=    1  + dp[a-2] (dp[3]=    2)  => dp[a] (after)=    3\n",
      "dp after coin 2: [1, 1, 2, 2, 3, 3]\n",
      "\n",
      "Using coin[2] = 5\n",
      "  a= 5: dp[a] (before)=    3  + dp[a-5] (dp[0]=    1)  => dp[a] (after)=    4\n",
      "dp after coin 5: [1, 1, 2, 2, 3, 4]\n",
      "\n",
      "Final dp: [1, 1, 2, 2, 3, 4]\n",
      "Answer = dp[5] = 4\n"
     ]
    },
    {
     "data": {
      "text/plain": [
       "4"
      ]
     },
     "execution_count": 6,
     "metadata": {},
     "output_type": "execute_result"
    }
   ],
   "source": [
    "def change_verbose(amount, coins):\n",
    "    \"\"\"\n",
    "    Count combinations to form `amount` with `coins`.\n",
    "    Verbose prints for every iteration.\n",
    "    \"\"\"\n",
    "    print(f\"Amount = {amount}, Coins = {coins}\")\n",
    "    dp = [0] * (amount + 1)\n",
    "    dp[0] = 1\n",
    "    print(f\"Init dp: {dp}  (dp[0]=1 because there's 1 way to make 0)\\n\")\n",
    "\n",
    "    for ci, c in enumerate(coins):\n",
    "        print(f\"Using coin[{ci}] = {c}\")\n",
    "        for a in range(c, amount + 1):\n",
    "            before = dp[a]\n",
    "            add = dp[a - c]\n",
    "            dp[a] += add\n",
    "            print(\n",
    "                f\"  a={a:2d}: dp[a] (before)={before:>5}  \"\n",
    "                f\"+ dp[a-{c}] (dp[{a-c}]={add:>5})  => dp[a] (after)={dp[a]:>5}\"\n",
    "            )\n",
    "        print(f\"dp after coin {c}: {dp}\\n\")\n",
    "\n",
    "    print(f\"Final dp: {dp}\")\n",
    "    print(f\"Answer = dp[{amount}] = {dp[amount]}\")\n",
    "    return dp[amount]\n",
    "\n",
    "\n",
    "\n",
    "change_verbose(5, [1, 2, 5])\n"
   ]
  }
 ],
 "metadata": {
  "kernelspec": {
   "display_name": "myenv",
   "language": "python",
   "name": "python3"
  },
  "language_info": {
   "codemirror_mode": {
    "name": "ipython",
    "version": 3
   },
   "file_extension": ".py",
   "mimetype": "text/x-python",
   "name": "python",
   "nbconvert_exporter": "python",
   "pygments_lexer": "ipython3",
   "version": "3.12.9"
  }
 },
 "nbformat": 4,
 "nbformat_minor": 5
}
