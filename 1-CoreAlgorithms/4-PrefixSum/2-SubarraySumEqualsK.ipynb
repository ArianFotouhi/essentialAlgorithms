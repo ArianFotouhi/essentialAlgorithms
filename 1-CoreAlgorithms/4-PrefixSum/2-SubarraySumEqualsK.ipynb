{
 "cells": [
  {
   "cell_type": "markdown",
   "id": "4274cf2d",
   "metadata": {},
   "source": [
    "# Subarray Sum Equals K"
   ]
  },
  {
   "cell_type": "markdown",
   "id": "fd981968",
   "metadata": {},
   "source": [
    "🧩 Problem:\n",
    "Given an integer array nums and an integer k, return the total number of contiguous subarrays that sum to k."
   ]
  },
  {
   "cell_type": "code",
   "execution_count": 2,
   "id": "7f7c67bc",
   "metadata": {},
   "outputs": [],
   "source": [
    "def subarraySum(nums, k):\n",
    "    prefix_counts = {0: 1}  # Base case\n",
    "    current_sum = 0\n",
    "    count = 0\n",
    "\n",
    "    print(f\"{'Index':>5} | {'Num':>5} | {'Current Sum':>12} | {'Current Sum - k':>15} | {'Count Increment':>16} | {'Total Count':>12} | {'Prefix Counts'}\")\n",
    "    print('-' * 100)\n",
    "\n",
    "    for i, num in enumerate(nums):\n",
    "        current_sum += num\n",
    "        delta = current_sum - k\n",
    "        increment = prefix_counts.get(delta, 0)\n",
    "        count += increment\n",
    "        prefix_counts[current_sum] = prefix_counts.get(current_sum, 0) + 1\n",
    "\n",
    "        print(f\"{i:5} | {num:5} | {current_sum:12} | {delta:15} | {increment:16} | {count:12} | {dict(prefix_counts)}\")\n",
    "\n",
    "    return count\n"
   ]
  },
  {
   "cell_type": "code",
   "execution_count": null,
   "id": "501c325d",
   "metadata": {},
   "outputs": [
    {
     "name": "stdout",
     "output_type": "stream",
     "text": [
      "Index |   Num |  Current Sum | Current Sum - k |  Count Increment |  Total Count | Prefix Counts\n",
      "----------------------------------------------------------------------------------------------------\n",
      "    0 |     1 |            1 |              -2 |                0 |            0 | {0: 1, 1: 1}\n",
      "    1 |     2 |            3 |               0 |                1 |            1 | {0: 1, 1: 1, 3: 1}\n",
      "    2 |     3 |            6 |               3 |                1 |            2 | {0: 1, 1: 1, 3: 1, 6: 1}\n",
      "\n",
      "Total subarrays with sum 3: 2\n"
     ]
    }
   ],
   "source": [
    "nums = [1, 2, 3]\n",
    "k = 3\n",
    "result = subarraySum(nums, k)\n",
    "print(f\"\\nTotal subarrays with sum {k}: {result}\")\n",
    "#[1, 2], [3] are the subarrays that sum to 3"
   ]
  }
 ],
 "metadata": {
  "kernelspec": {
   "display_name": "base",
   "language": "python",
   "name": "python3"
  },
  "language_info": {
   "codemirror_mode": {
    "name": "ipython",
    "version": 3
   },
   "file_extension": ".py",
   "mimetype": "text/x-python",
   "name": "python",
   "nbconvert_exporter": "python",
   "pygments_lexer": "ipython3",
   "version": "3.12.7"
  }
 },
 "nbformat": 4,
 "nbformat_minor": 5
}
