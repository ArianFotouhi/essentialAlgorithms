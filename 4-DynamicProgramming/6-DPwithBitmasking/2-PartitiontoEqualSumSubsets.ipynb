{
 "cells": [
  {
   "cell_type": "markdown",
   "id": "3c5b0dde",
   "metadata": {},
   "source": [
    "Given an integer array nums, return true if you can partition the array into two subsets such that the sum of the elements in both subsets is equal or false otherwise.\n",
    "\n",
    "# Example 1:\n",
    "\n",
    "- Input: nums = [1,5,11,5]\n",
    "- Output: true\n",
    "- Explanation: The array can be partitioned as [1, 5, 5] and [11].\n",
    "\n",
    "# Example 2:\n",
    "\n",
    "- Input: nums = [1,2,3,5]\n",
    "- Output: false\n",
    "- Explanation: The array cannot be partitioned into equal sum subsets.\n"
   ]
  }
 ],
 "metadata": {
  "language_info": {
   "name": "python"
  }
 },
 "nbformat": 4,
 "nbformat_minor": 5
}
