{
 "cells": [
  {
   "cell_type": "markdown",
   "id": "96dd1388",
   "metadata": {},
   "source": [
    "# 416 — Partition Equal Subset Sum"
   ]
  }
 ],
 "metadata": {
  "language_info": {
   "name": "python"
  }
 },
 "nbformat": 4,
 "nbformat_minor": 5
}
