{
 "cells": [
  {
   "cell_type": "markdown",
   "id": "2bd54b09",
   "metadata": {},
   "source": [
    "# Fibonacci"
   ]
  },
  {
   "cell_type": "markdown",
   "id": "d7045bf9",
   "metadata": {},
   "source": [
    "# Base Code"
   ]
  },
  {
   "cell_type": "code",
   "execution_count": 2,
   "id": "101b6c12",
   "metadata": {},
   "outputs": [],
   "source": [
    "def fib(n, memo=None):\n",
    "    if memo is None:\n",
    "        memo = {}\n",
    "    if n in memo:\n",
    "        return memo[n]\n",
    "    if n <= 1:              # base cases\n",
    "        return n\n",
    "    memo[n] = fib(n-1, memo) + fib(n-2, memo)\n",
    "    return memo[n]\n"
   ]
  },
  {
   "cell_type": "markdown",
   "id": "8c27cccb",
   "metadata": {},
   "source": [
    "# Pretty Priting"
   ]
  },
  {
   "cell_type": "code",
   "execution_count": 8,
   "id": "0ad62f0d",
   "metadata": {},
   "outputs": [
    {
     "name": "stdout",
     "output_type": "stream",
     "text": [
      "🐇 Fibonacci Trace:\n",
      "Computing fib(5)...\n",
      "  Computing fib(4)...\n",
      "    Computing fib(3)...\n",
      "      Computing fib(2)...\n",
      "        fib(1) → 1 (base case)\n",
      "        fib(0) → 0 (base case)\n",
      "      fib(2) → 1\n",
      "      fib(1) → 1 (base case)\n",
      "    fib(3) → 2\n",
      "    fib(2) → 1 (cached)\n",
      "  fib(4) → 3\n",
      "  fib(3) → 2 (cached)\n",
      "fib(5) → 5\n",
      "✅ Final Answer: 5\n"
     ]
    }
   ],
   "source": [
    "def fib(n, memo=None, depth=0):\n",
    "    if memo is None:\n",
    "        memo = {}\n",
    "    indent = \"  \" * depth  # for pretty printing\n",
    "    \n",
    "    if n in memo:\n",
    "        print(f\"{indent}fib({n}) → {memo[n]} (cached)\")\n",
    "        return memo[n]\n",
    "    if n <= 1:\n",
    "        print(f\"{indent}fib({n}) → {n} (base case)\")\n",
    "        return n\n",
    "    \n",
    "    print(f\"{indent}Computing fib({n})...\")\n",
    "    left = fib(n-1, memo, depth+1)\n",
    "    right = fib(n-2, memo, depth+1)\n",
    "    memo[n] = left + right\n",
    "    print(f\"{indent}fib({n}) → {memo[n]}\")\n",
    "    return memo[n]\n",
    "\n",
    "print(\"🐇 Fibonacci Trace:\")\n",
    "result = fib(5)\n",
    "print(f\"✅ Final Answer: {result}\")"
   ]
  }
 ],
 "metadata": {
  "kernelspec": {
   "display_name": "myenv",
   "language": "python",
   "name": "python3"
  },
  "language_info": {
   "codemirror_mode": {
    "name": "ipython",
    "version": 3
   },
   "file_extension": ".py",
   "mimetype": "text/x-python",
   "name": "python",
   "nbconvert_exporter": "python",
   "pygments_lexer": "ipython3",
   "version": "3.12.9"
  }
 },
 "nbformat": 4,
 "nbformat_minor": 5
}
