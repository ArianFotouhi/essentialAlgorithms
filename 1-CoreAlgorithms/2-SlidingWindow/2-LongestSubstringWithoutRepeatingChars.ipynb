{
 "cells": [
  {
   "cell_type": "markdown",
   "id": "7cef3199",
   "metadata": {},
   "source": [
    "# Longest Substring Without Repeating Characters (Variable Window)\n",
    "Return the length of the longest substring without repeating characters."
   ]
  },
  {
   "cell_type": "code",
   "execution_count": 2,
   "id": "c13afdf7",
   "metadata": {},
   "outputs": [],
   "source": [
    "def longest_unique_substring(s):\n",
    "    char_index = {}  # Stores last seen index of each character\n",
    "    left = 0\n",
    "    max_len = 0\n",
    "\n",
    "    print(f\"{'Idx':<5}{'Char':<6}{'Left':<6}{'Right':<6}{'Window':<15}{'Map (char_index)'}\")\n",
    "    print(\"-\" * 60)\n",
    "\n",
    "    for right in range(len(s)):\n",
    "        current_char = s[right]\n",
    "\n",
    "        # If character is in the current window (duplicate), shrink from left\n",
    "        if current_char in char_index and char_index[current_char] >= left:\n",
    "            print(f\"{right:<5}{current_char:<6}{left:<6}{right:<6}{s[left:right+1]:<15}{char_index}\")\n",
    "            print(f\"→ Duplicate '{current_char}' found at index {right}. Move left from {left} to {char_index[current_char] + 1}\")\n",
    "            left = char_index[current_char] + 1\n",
    "\n",
    "        # Update last seen index of current character\n",
    "        char_index[current_char] = right\n",
    "        window_len = right - left + 1\n",
    "        max_len = max(max_len, window_len)\n",
    "\n",
    "        print(f\"{right:<5}{current_char:<6}{left:<6}{right:<6}{s[left:right+1]:<15}{char_index}\")\n",
    "\n",
    "    print(f\"\\n✅ Longest unique substring length: {max_len}\")\n",
    "    return max_len\n"
   ]
  },
  {
   "cell_type": "code",
   "execution_count": 3,
   "id": "ef21025b",
   "metadata": {},
   "outputs": [
    {
     "name": "stdout",
     "output_type": "stream",
     "text": [
      "Idx  Char  Left  Right Window         Map (char_index)\n",
      "------------------------------------------------------------\n",
      "0    a     0     0     a              {'a': 0}\n",
      "1    b     0     1     ab             {'a': 0, 'b': 1}\n",
      "2    c     0     2     abc            {'a': 0, 'b': 1, 'c': 2}\n",
      "3    a     0     3     abca           {'a': 0, 'b': 1, 'c': 2}\n",
      "→ Duplicate 'a' found at index 3. Move left from 0 to 1\n",
      "3    a     1     3     bca            {'a': 3, 'b': 1, 'c': 2}\n",
      "4    b     1     4     bcab           {'a': 3, 'b': 1, 'c': 2}\n",
      "→ Duplicate 'b' found at index 4. Move left from 1 to 2\n",
      "4    b     2     4     cab            {'a': 3, 'b': 4, 'c': 2}\n",
      "5    c     2     5     cabc           {'a': 3, 'b': 4, 'c': 2}\n",
      "→ Duplicate 'c' found at index 5. Move left from 2 to 3\n",
      "5    c     3     5     abc            {'a': 3, 'b': 4, 'c': 5}\n",
      "6    b     3     6     abcb           {'a': 3, 'b': 4, 'c': 5}\n",
      "→ Duplicate 'b' found at index 6. Move left from 3 to 5\n",
      "6    b     5     6     cb             {'a': 3, 'b': 6, 'c': 5}\n",
      "7    b     5     7     cbb            {'a': 3, 'b': 6, 'c': 5}\n",
      "→ Duplicate 'b' found at index 7. Move left from 5 to 7\n",
      "7    b     7     7     b              {'a': 3, 'b': 7, 'c': 5}\n",
      "\n",
      "✅ Longest unique substring length: 3\n"
     ]
    },
    {
     "data": {
      "text/plain": [
       "3"
      ]
     },
     "execution_count": 3,
     "metadata": {},
     "output_type": "execute_result"
    }
   ],
   "source": [
    "longest_unique_substring(\"abcabcbb\")"
   ]
  }
 ],
 "metadata": {
  "kernelspec": {
   "display_name": "base",
   "language": "python",
   "name": "python3"
  },
  "language_info": {
   "codemirror_mode": {
    "name": "ipython",
    "version": 3
   },
   "file_extension": ".py",
   "mimetype": "text/x-python",
   "name": "python",
   "nbconvert_exporter": "python",
   "pygments_lexer": "ipython3",
   "version": "3.12.7"
  }
 },
 "nbformat": 4,
 "nbformat_minor": 5
}
