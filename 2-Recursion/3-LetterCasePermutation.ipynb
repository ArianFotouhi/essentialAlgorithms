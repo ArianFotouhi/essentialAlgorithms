{
 "cells": [
  {
   "cell_type": "markdown",
   "id": "dbd60019",
   "metadata": {},
   "source": [
    "# Letter Case Permutation"
   ]
  },
  {
   "cell_type": "markdown",
   "id": "52acd9de",
   "metadata": {},
   "source": [
    "**Goal:** \n",
    "\n",
    "Given a string s with letters and digits, return all strings after toggling the case of each letter (digits unchanged)."
   ]
  },
  {
   "cell_type": "markdown",
   "id": "3b372beb",
   "metadata": {},
   "source": [
    "# Base Code"
   ]
  },
  {
   "cell_type": "code",
   "execution_count": null,
   "id": "ba455581",
   "metadata": {},
   "outputs": [
    {
     "name": "stdout",
     "output_type": "stream",
     "text": [
      "['a1b', 'a1B', 'A1b', 'A1B']\n"
     ]
    }
   ],
   "source": [
    "def letterCasePermutation(s):\n",
    "    res = []\n",
    "    path = []\n",
    "\n",
    "    def dfs(i):\n",
    "        if i == len(s):\n",
    "            res.append(\"\".join(path))\n",
    "            return\n",
    "        \n",
    "        ch = s[i]\n",
    "        if ch.isalpha():\n",
    "            path.append(ch.lower())\n",
    "            dfs(i+1)\n",
    "            path.pop()\n",
    "\n",
    "            path.append(ch.upper())\n",
    "            dfs(i+1)\n",
    "            path.pop()\n",
    "        else:\n",
    "            path.append(ch)\n",
    "            dfs(i+1)\n",
    "            path.pop()\n",
    "\n",
    "    dfs(0)\n",
    "    return res\n",
    "\n",
    "\n",
    "print(letterCasePermutation(\"a1b\"))  \n",
    "# Output: ['a1b', 'a1B', 'A1b', 'A1B']"
   ]
  },
  {
   "cell_type": "markdown",
   "id": "985051cf",
   "metadata": {},
   "source": [
    "# Pretty Printing"
   ]
  },
  {
   "cell_type": "code",
   "execution_count": null,
   "id": "07242453",
   "metadata": {},
   "outputs": [
    {
     "name": "stdout",
     "output_type": "stream",
     "text": [
      "🔠 Letter Case Permutation Trace:\n",
      "\n",
      "➡️ Enter dfs(i=0), path=[], res=[]\n",
      "At index 0, branching on 'a'...\n",
      "  Choose lowercase → path=['a']\n",
      "\n",
      "➡️ Enter dfs(i=1), path=['a'], res=[]\n",
      "At index 1, digit → keep '1' → path=['a', '1']\n",
      "\n",
      "➡️ Enter dfs(i=2), path=['a', '1'], res=[]\n",
      "At index 2, branching on 'b'...\n",
      "  Choose lowercase → path=['a', '1', 'b']\n",
      "\n",
      "➡️ Enter dfs(i=3), path=['a', '1', 'b'], res=[]\n",
      "✅ Found permutation: a1b\n",
      "   After append → res=['a1b']\n",
      "  Backtrack after lowercase → path=['a', '1']\n",
      "  Choose uppercase → path=['a', '1', 'B']\n",
      "\n",
      "➡️ Enter dfs(i=3), path=['a', '1', 'B'], res=['a1b']\n",
      "✅ Found permutation: a1B\n",
      "   After append → res=['a1b', 'a1B']\n",
      "  Backtrack after uppercase → path=['a', '1']\n",
      "Backtrack after digit → path=['a']\n",
      "  Backtrack after lowercase → path=[]\n",
      "  Choose uppercase → path=['A']\n",
      "\n",
      "➡️ Enter dfs(i=1), path=['A'], res=['a1b', 'a1B']\n",
      "At index 1, digit → keep '1' → path=['A', '1']\n",
      "\n",
      "➡️ Enter dfs(i=2), path=['A', '1'], res=['a1b', 'a1B']\n",
      "At index 2, branching on 'b'...\n",
      "  Choose lowercase → path=['A', '1', 'b']\n",
      "\n",
      "➡️ Enter dfs(i=3), path=['A', '1', 'b'], res=['a1b', 'a1B']\n",
      "✅ Found permutation: A1b\n",
      "   After append → res=['a1b', 'a1B', 'A1b']\n",
      "  Backtrack after lowercase → path=['A', '1']\n",
      "  Choose uppercase → path=['A', '1', 'B']\n",
      "\n",
      "➡️ Enter dfs(i=3), path=['A', '1', 'B'], res=['a1b', 'a1B', 'A1b']\n",
      "✅ Found permutation: A1B\n",
      "   After append → res=['a1b', 'a1B', 'A1b', 'A1B']\n",
      "  Backtrack after uppercase → path=['A', '1']\n",
      "Backtrack after digit → path=['A']\n",
      "  Backtrack after uppercase → path=[]\n",
      "\n",
      "✅ Final Answer: ['a1b', 'a1B', 'A1b', 'A1B']\n"
     ]
    }
   ],
   "source": [
    "def letterCasePermutation(s):\n",
    "    res = []\n",
    "    path = []\n",
    "\n",
    "    def dfs(i):\n",
    "        print(f\"\\n➡️ Enter dfs(i={i}), path={path}, res={res}\")\n",
    "\n",
    "        # 1) Base case: if we've used all characters\n",
    "        if i == len(s):\n",
    "            result = \"\".join(path)\n",
    "            print(f\"✅ Found permutation: {result}\")\n",
    "            res.append(result)\n",
    "            print(f\"   After append → res={res}\")\n",
    "            return\n",
    "\n",
    "        ch = s[i]\n",
    "\n",
    "        # 2) If it's a letter → branch lowercase and uppercase\n",
    "        if ch.isalpha():\n",
    "            print(f\"At index {i}, branching on '{ch}'...\")\n",
    "\n",
    "            # lowercase branch\n",
    "            path.append(ch.lower())\n",
    "            print(f\"  Choose lowercase → path={path}\")\n",
    "            dfs(i+1)\n",
    "            path.pop()\n",
    "            print(f\"  Backtrack after lowercase → path={path}\")\n",
    "\n",
    "            # uppercase branch\n",
    "            path.append(ch.upper())\n",
    "            print(f\"  Choose uppercase → path={path}\")\n",
    "            dfs(i+1)\n",
    "            path.pop()\n",
    "            print(f\"  Backtrack after uppercase → path={path}\")\n",
    "\n",
    "        # 3) If it's a digit → only one option\n",
    "        else:\n",
    "            path.append(ch)\n",
    "            print(f\"At index {i}, digit → keep '{ch}' → path={path}\")\n",
    "            dfs(i+1)\n",
    "            path.pop()\n",
    "            print(f\"Backtrack after digit → path={path}\")\n",
    "\n",
    "    dfs(0)\n",
    "    return res\n",
    "\n",
    "\n",
    "# Example run\n",
    "print(\"🔠 Letter Case Permutation Trace:\")\n",
    "results = letterCasePermutation(\"a1b\")\n",
    "print(f\"\\n✅ Final Answer: {results}\")"
   ]
  }
 ],
 "metadata": {
  "kernelspec": {
   "display_name": "myenv",
   "language": "python",
   "name": "python3"
  },
  "language_info": {
   "codemirror_mode": {
    "name": "ipython",
    "version": 3
   },
   "file_extension": ".py",
   "mimetype": "text/x-python",
   "name": "python",
   "nbconvert_exporter": "python",
   "pygments_lexer": "ipython3",
   "version": "3.12.9"
  }
 },
 "nbformat": 4,
 "nbformat_minor": 5
}
