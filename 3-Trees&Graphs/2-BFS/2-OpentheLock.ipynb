{
 "cells": [
  {
   "cell_type": "markdown",
   "id": "b135e294",
   "metadata": {},
   "source": [
    "## Example 1:\n",
    "\n",
    "Input\n",
    "```\n",
    "deadends = [\"0201\",\"0101\",\"0102\",\"1212\",\"2002\"], target = \"0202\"\n",
    "```\n",
    "Output\n",
    "```\n",
    "6\n",
    "```\n",
    "\n",
    "Explanation: \n",
    "```\n",
    "A sequence of valid moves would be \"0000\" -> \"1000\" -> \"1100\" -> \"1200\" -> \"1201\" -> \"1202\" -> \"0202\".\n",
    "Note that a sequence like \"0000\" -> \"0001\" -> \"0002\" -> \"0102\" -> \"0202\" would be invalid,\n",
    "because the wheels of the lock become stuck after the display becomes the dead end \"0102\".\n",
    "```\n",
    "\n",
    "## Example 2:\n",
    "\n",
    "Input\n",
    "```\n",
    "deadends = [\"8888\"], target = \"0009\"\n",
    "```\n",
    "Output\n",
    "```\n",
    "1\n",
    "```\n",
    "Explanation\n",
    "```\n",
    "We can turn the last wheel in reverse to move from \"0000\" -> \"0009\".\n",
    "```\n",
    "\n",
    "## Example 3:\n",
    "\n",
    "Input\n",
    "```\n",
    "deadends = [\"8887\",\"8889\",\"8878\",\"8898\",\"8788\",\"8988\",\"7888\",\"9888\"], target = \"8888\"\n",
    "```\n",
    "Output\n",
    "```\n",
    "-1\n",
    "```\n",
    "\n",
    "Explanation\n",
    "```\n",
    "We cannot reach the target without getting stuck.\n",
    "```"
   ]
  }
 ],
 "metadata": {
  "language_info": {
   "name": "python"
  }
 },
 "nbformat": 4,
 "nbformat_minor": 5
}
