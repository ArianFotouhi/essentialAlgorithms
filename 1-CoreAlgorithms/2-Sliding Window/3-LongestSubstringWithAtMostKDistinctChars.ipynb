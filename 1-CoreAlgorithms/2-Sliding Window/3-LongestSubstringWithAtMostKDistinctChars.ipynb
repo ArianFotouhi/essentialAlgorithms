{
 "cells": [
  {
   "cell_type": "markdown",
   "id": "31227de0",
   "metadata": {},
   "source": [
    "# Longest Substring with At Most K Distinct Characters (Variable Window + Constraint)\n",
    "Given a string and an integer k, find the length of the longest substring with at most k distinct characters.\n"
   ]
  },
  {
   "cell_type": "code",
   "execution_count": 9,
   "id": "0a437fa6",
   "metadata": {},
   "outputs": [],
   "source": [
    "def longest_substring_k_distinct(s, k):\n",
    "    if k == 0:\n",
    "        print(\"Window size 'k' is 0 — returning 0.\")\n",
    "        return 0\n",
    "\n",
    "    char_count = {}\n",
    "    left = 0\n",
    "    max_len = 0\n",
    "\n",
    "    print(f\"{'Idx':<5}{'Char':<6}{'Left':<6}{'Right':<6}{'Window':<20}{'Map (char_count)'}\")\n",
    "    print(\"-\" * 70)\n",
    "\n",
    "    for right in range(len(s)):\n",
    "        right_char = s[right]\n",
    "        # Add current character to the count map\n",
    "        char_count[right_char] = char_count.get(right_char, 0) + 1\n",
    "\n",
    "        # If we have more than k distinct characters, shrink window from the left\n",
    "        while len(char_count) > k:\n",
    "            print(f\"{right:<5}{right_char:<6}{left:<6}{right:<6}{s[left:right+1]:<20}{char_count}\")\n",
    "            print(f\"→ Too many distinct characters ({len(char_count)}). Shrinking window...\")\n",
    "\n",
    "            left_char = s[left]\n",
    "            char_count[left_char] -= 1\n",
    "            if char_count[left_char] == 0:\n",
    "                del char_count[left_char]\n",
    "            left += 1\n",
    "\n",
    "        # Update max length if valid window\n",
    "        window_len = right - left + 1\n",
    "        max_len = max(max_len, window_len)\n",
    "\n",
    "        print(f\"{right:<5}{right_char:<6}{left:<6}{right:<6}{s[left:right+1]:<20}{char_count}\")\n",
    "\n",
    "    print(f\"Longest substring with at most {k} distinct characters: {max_len}\")\n",
    "    return max_len\n"
   ]
  },
  {
   "cell_type": "code",
   "execution_count": 10,
   "id": "bc4997e2",
   "metadata": {},
   "outputs": [
    {
     "name": "stdout",
     "output_type": "stream",
     "text": [
      "Idx  Char  Left  Right Window              Map (char_count)\n",
      "----------------------------------------------------------------------\n",
      "0    e     0     0     e                   {'e': 1}\n",
      "1    c     0     1     ec                  {'e': 1, 'c': 1}\n",
      "2    e     0     2     ece                 {'e': 2, 'c': 1}\n",
      "3    b     0     3     eceb                {'e': 2, 'c': 1, 'b': 1}\n",
      "→ Too many distinct characters (3). Shrinking window...\n",
      "3    b     1     3     ceb                 {'e': 1, 'c': 1, 'b': 1}\n",
      "→ Too many distinct characters (3). Shrinking window...\n",
      "3    b     2     3     eb                  {'e': 1, 'b': 1}\n",
      "4    a     2     4     eba                 {'e': 1, 'b': 1, 'a': 1}\n",
      "→ Too many distinct characters (3). Shrinking window...\n",
      "4    a     3     4     ba                  {'b': 1, 'a': 1}\n",
      "Longest substring with at most 2 distinct characters: 3\n"
     ]
    },
    {
     "data": {
      "text/plain": [
       "3"
      ]
     },
     "execution_count": 10,
     "metadata": {},
     "output_type": "execute_result"
    }
   ],
   "source": [
    "longest_substring_k_distinct(\"eceba\", 2)"
   ]
  }
 ],
 "metadata": {
  "kernelspec": {
   "display_name": "base",
   "language": "python",
   "name": "python3"
  },
  "language_info": {
   "codemirror_mode": {
    "name": "ipython",
    "version": 3
   },
   "file_extension": ".py",
   "mimetype": "text/x-python",
   "name": "python",
   "nbconvert_exporter": "python",
   "pygments_lexer": "ipython3",
   "version": "3.12.7"
  }
 },
 "nbformat": 4,
 "nbformat_minor": 5
}
